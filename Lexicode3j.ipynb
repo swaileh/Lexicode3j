{
 "cells": [
  {
   "cell_type": "markdown",
   "metadata": {},
   "source": [
    "################################################################################\n",
    "# LEXICODE 3J\n",
    "# 2020 /10 /28\n",
    "################################################################################"
   ]
  },
  {
   "cell_type": "code",
   "execution_count": 5,
   "metadata": {},
   "outputs": [],
   "source": [
    "import time\n",
    "import pickle\n",
    "import numpy\n",
    "from numpy import *\n",
    "import scipy.io.wavfile\n",
    "from scipy.fftpack import dct\n",
    "from matplotlib.pylab import *\n",
    "from matplotlib import *\n",
    "matplotlib.rcParams.update({'font.size': 16})\n",
    "ion()\n",
    "toBackup=True\n",
    "timeframe=time.strftime('%Y%m%d%H%M%S')"
   ]
  },
  {
   "cell_type": "markdown",
   "metadata": {},
   "source": [
    "# LOAD DATA"
   ]
  },
  {
   "cell_type": "code",
   "execution_count": 55,
   "metadata": {},
   "outputs": [
    {
     "data": {
      "text/plain": [
       "10000"
      ]
     },
     "execution_count": 55,
     "metadata": {},
     "output_type": "execute_result"
    }
   ],
   "source": [
    "file = open('TEXT_of_DIGITS.txt', 'r') \n",
    "filemat=array(file.readlines())\n",
    "file.close()\n",
    "\n",
    "array_matrix=[] \n",
    "\n",
    "for iter in range(len(filemat)):\n",
    "    read_array=array((filemat[iter][:-1].split(' '))[1:],'int')\n",
    "    array_matrix.append((read_array))\n",
    "\n",
    "len(array_matrix)"
   ]
  },
  {
   "cell_type": "markdown",
   "metadata": {},
   "source": [
    "## reshape matrix 1 [chunking into 50 items length]\n"
   ]
  },
  {
   "cell_type": "code",
   "execution_count": 30,
   "metadata": {},
   "outputs": [
    {
     "data": {
      "text/plain": [
       "449161"
      ]
     },
     "execution_count": 30,
     "metadata": {},
     "output_type": "execute_result"
    }
   ],
   "source": [
    "array_matr=concatenate(array_matrix[:-1])\n",
    "num_len1=25\n",
    "num_lin1=int(len(array_matr)/num_len1)\n",
    "array_mat1=reshape(array_matr[:num_lin1*num_len1],(num_lin1, num_len1))\n",
    "len(array_matr)"
   ]
  },
  {
   "cell_type": "markdown",
   "metadata": {},
   "source": [
    "## reshape matrix 2 [chunking with stride]"
   ]
  },
  {
   "cell_type": "code",
   "execution_count": 32,
   "metadata": {},
   "outputs": [],
   "source": [
    "stride=10\n",
    "num_len2=50\n",
    "array_mat2=[]\n",
    "\n",
    "for idx in arange(len(array_matr),step=stride):\n",
    "    array_mat2.append(array_matr[idx:idx+num_len2])\n",
    "\n",
    "array_mat2=concatenate(array_mat2[:-1])\n",
    "num_lin2=int(len(array_mat2)/num_len2)\n",
    "array_mat2=reshape(array_mat2[:num_len2*num_lin2],(num_lin2,num_len2))\n",
    "\n",
    "file = open('text2int.txt', 'r') \n",
    "text2int=file.readlines()\n",
    "file.close()"
   ]
  },
  {
   "cell_type": "markdown",
   "metadata": {},
   "source": [
    "## DUMP This fonction can be used to to save a matrix\n"
   ]
  },
  {
   "cell_type": "code",
   "execution_count": 33,
   "metadata": {},
   "outputs": [],
   "source": [
    "def dump_matrix(matrix, timeframe='none', name='matrix'):\n",
    "    if timeframe == 'none':\n",
    "        timeframe=time.strftime('%Y%m%d%H%M%S')\n",
    "    pickle.dump( matrix, open( \"%s_%s.p\" %(name,timeframe), \"wb\" ) )"
   ]
  },
  {
   "cell_type": "markdown",
   "metadata": {},
   "source": [
    "## renormalize This fonction can be used to renormalize a matrix\n"
   ]
  },
  {
   "cell_type": "code",
   "execution_count": 34,
   "metadata": {},
   "outputs": [],
   "source": [
    "def renormalize(mat, amin,amax):\n",
    "    return (amax-amin)*(mat-min(mat))/(max(mat)-min(mat))+amin"
   ]
  },
  {
   "cell_type": "markdown",
   "metadata": {},
   "source": [
    "# 1.1 PARAMETERS INIT\n",
    "## choose one matrix"
   ]
  },
  {
   "cell_type": "code",
   "execution_count": 40,
   "metadata": {},
   "outputs": [
    {
     "data": {
      "text/plain": [
       "25"
      ]
     },
     "execution_count": 40,
     "metadata": {},
     "output_type": "execute_result"
    }
   ],
   "source": [
    "array_mat=array_mat1\n",
    "len(array_mat[0])"
   ]
  },
  {
   "cell_type": "markdown",
   "metadata": {},
   "source": [
    "## min max alphabet index value"
   ]
  },
  {
   "cell_type": "code",
   "execution_count": 49,
   "metadata": {},
   "outputs": [
    {
     "data": {
      "text/plain": [
       "100"
      ]
     },
     "execution_count": 49,
     "metadata": {},
     "output_type": "execute_result"
    }
   ],
   "source": [
    "amin_val=amin(array_mat)\n",
    "amax_val=amax(array_mat)\n",
    "amax_val"
   ]
  },
  {
   "cell_type": "markdown",
   "metadata": {},
   "source": [
    "## sequence length"
   ]
  },
  {
   "cell_type": "code",
   "execution_count": 38,
   "metadata": {},
   "outputs": [
    {
     "data": {
      "text/plain": [
       "25"
      ]
     },
     "execution_count": 38,
     "metadata": {},
     "output_type": "execute_result"
    }
   ],
   "source": [
    "seq_len=shape(array_mat)[1] # sentence length\n",
    "seq_len"
   ]
  },
  {
   "cell_type": "markdown",
   "metadata": {},
   "source": [
    "## to change the sequence length"
   ]
  },
  {
   "cell_type": "code",
   "execution_count": 41,
   "metadata": {},
   "outputs": [],
   "source": [
    "comp_len=seq_len+0  # SENTENCE COMPLETION LENGTH"
   ]
  },
  {
   "cell_type": "markdown",
   "metadata": {},
   "source": [
    "# 2 NEURAL NETWORKS INIT\n",
    "## 2.1 Optimization method: search ELEMENT POSITION FIRST or RANK POSITION FIRST"
   ]
  },
  {
   "cell_type": "code",
   "execution_count": 42,
   "metadata": {},
   "outputs": [],
   "source": [
    "pos_search_first=False\n",
    "rank_search_first= not pos_search_first"
   ]
  },
  {
   "cell_type": "markdown",
   "metadata": {},
   "source": [
    "## 2.2 Networks size"
   ]
  },
  {
   "cell_type": "code",
   "execution_count": 43,
   "metadata": {},
   "outputs": [],
   "source": [
    "num_lpfc=100 # nb rank-order codes\n",
    "num_dlpfc=len(array_mat) # nb sentences"
   ]
  },
  {
   "cell_type": "markdown",
   "metadata": {},
   "source": [
    "## 2.3 Init modulation"
   ]
  },
  {
   "cell_type": "code",
   "execution_count": 45,
   "metadata": {},
   "outputs": [
    {
     "data": {
      "text/plain": [
       "25"
      ]
     },
     "execution_count": 45,
     "metadata": {},
     "output_type": "execute_result"
    }
   ],
   "source": [
    "num_mod=comp_len\n",
    "modulation=zeros(num_mod)\n",
    "\n",
    "for idx in range(num_mod): \n",
    "    modulation[idx]=1.0/(idx+1)\n",
    "len(modulation)"
   ]
  },
  {
   "cell_type": "markdown",
   "metadata": {},
   "source": [
    "## 2.32 Permutation key [0,amax_val]->[amin_val,amax_val] : [0,99]+1->[1,100]"
   ]
  },
  {
   "cell_type": "code",
   "execution_count": 60,
   "metadata": {},
   "outputs": [
    {
     "data": {
      "text/plain": [
       "array([[0, 0, 0, ..., 0, 0, 0],\n",
       "       [0, 0, 0, ..., 0, 0, 0],\n",
       "       [0, 0, 0, ..., 0, 0, 0],\n",
       "       ...,\n",
       "       [0, 0, 0, ..., 0, 0, 0],\n",
       "       [0, 0, 0, ..., 0, 0, 0],\n",
       "       [0, 0, 0, ..., 0, 0, 0]])"
      ]
     },
     "execution_count": 60,
     "metadata": {},
     "output_type": "execute_result"
    }
   ],
   "source": [
    "permutation_key=zeros((num_lpfc,amax_val)).astype('int')\n",
    "permutation_key"
   ]
  },
  {
   "cell_type": "code",
   "execution_count": 69,
   "metadata": {},
   "outputs": [],
   "source": [
    "ap=0.0\n",
    "\n",
    "for idx in range(num_lpfc): \n",
    "    #permutation_key[idx,:]=(permutation(amax_val)+amin_val)\n",
    "    permutation_key[idx,:]=arange(amax_val)+amin_val\n",
    "    #print(permutation_key[idx,:])\n",
    "    if (ap > random()): # DESCENT GRADIENT\n",
    "        for j in arange(1):\n",
    "            x=randint(amax_val)\n",
    "            y=randint(amax_val)\n",
    "            tmp=permutation_key[idx,x]\n",
    "            permutation_key[idx,x]=permutation_key[idx,y]\n",
    "            permutation_key[idx,y]=tmp"
   ]
  },
  {
   "cell_type": "code",
   "execution_count": 62,
   "metadata": {},
   "outputs": [],
   "source": [
    "#permutation_key=permutation_key[:,::-1]\n",
    "permutation_key[::2,:]=permutation_key[::2,::-1]"
   ]
  },
  {
   "cell_type": "code",
   "execution_count": 78,
   "metadata": {},
   "outputs": [
    {
     "data": {
      "text/plain": [
       "100"
      ]
     },
     "execution_count": 78,
     "metadata": {},
     "output_type": "execute_result"
    }
   ],
   "source": [
    "len(permutation_key[::2,:])"
   ]
  },
  {
   "cell_type": "markdown",
   "metadata": {},
   "source": [
    "# PLOT ALPHABET ORDER"
   ]
  },
  {
   "cell_type": "code",
   "execution_count": 80,
   "metadata": {},
   "outputs": [
    {
     "data": {
      "text/plain": [
       "Text(0.5, 1.0, 'Alphabet Permutation Order')"
      ]
     },
     "execution_count": 80,
     "metadata": {},
     "output_type": "execute_result"
    },
    {
     "data": {
      "image/png": "[encoded data removed]",
      "text/plain": [
       "<Figure size 432x288 with 1 Axes>"
      ]
     },
     "metadata": {
      "needs_background": "light"
     },
     "output_type": "display_data"
    }
   ],
   "source": [
    "#figure(0) \n",
    "clf()\n",
    "imshow(permutation_key)\n",
    "ylabel('Neuron [idx]')\n",
    "xlabel('Alphabet Order [Rank]')\n",
    "title('Alphabet Permutation Order')"
   ]
  },
  {
   "cell_type": "markdown",
   "metadata": {},
   "source": [
    "## backup"
   ]
  },
  {
   "cell_type": "code",
   "execution_count": 81,
   "metadata": {},
   "outputs": [
    {
     "data": {
      "text/plain": [
       "<Figure size 432x288 with 0 Axes>"
      ]
     },
     "metadata": {},
     "output_type": "display_data"
    }
   ],
   "source": [
    "if toBackup == True:\n",
    "    timeframe=time.strftime('%Y%m%d%H%M%S')\n",
    "    filename = 'fig10_%s.png' %(timeframe)\n",
    "    savefig(filename)\n",
    "    filename = 'fig10_%s.svg' %(timeframe)\n",
    "    savefig(filename)"
   ]
  },
  {
   "cell_type": "markdown",
   "metadata": {},
   "source": [
    "## 2.40 UPDATE Weights for LPFC/RANK CODE UNITS\n",
    "## 2.41 RANDOM Weights for LPFC/RANK CODE UNITS"
   ]
  },
  {
   "cell_type": "code",
   "execution_count": 82,
   "metadata": {},
   "outputs": [],
   "source": [
    "weights_lpfc=randint(num_lpfc,size=(num_lpfc,comp_len))\n",
    "weights_lpfc_rank=argsort(weights_lpfc,axis=1)\n",
    "weights_lpfc=modulation[weights_lpfc_rank]"
   ]
  },
  {
   "cell_type": "markdown",
   "metadata": {},
   "source": [
    "## 2.42 ORDERED Weights for LPFC/RANK CODE UNITS"
   ]
  },
  {
   "cell_type": "code",
   "execution_count": 83,
   "metadata": {},
   "outputs": [],
   "source": [
    "#weights_lpfc=ones((num_lpfc,comp_len))*modulation\n",
    "#imshow(weights_lpfc,aspect='auto')"
   ]
  },
  {
   "cell_type": "markdown",
   "metadata": {},
   "source": [
    "## 2.43 LEARN Weights for LPFC/RANK CODE UNITS"
   ]
  },
  {
   "cell_type": "code",
   "execution_count": 84,
   "metadata": {},
   "outputs": [],
   "source": [
    "#for idx in arange(num_dlpfc):\n",
    "    ## input\n",
    "    #rank_order_idx=argsort(array_mat[idx,:]) # the most active first rank\n",
    "    #lpfc_activation=dot(weights_lpfc, modulation[rank_order_idx])\n",
    "    #nn_max=argmax(lpfc_activation)\n",
    "    #if pos_search_first:\n",
    "        #weights_lpfc[nn_max,:]=modulation[rank_order_idx]\n",
    "    #elif rank_search_first:\n",
    "        #weights_lpfc[nn_max,rank_order_idx]=modulation"
   ]
  },
  {
   "cell_type": "markdown",
   "metadata": {},
   "source": [
    "## 2.5 LEARN Weights for DLPFC/RANK CODE UNITS"
   ]
  },
  {
   "cell_type": "code",
   "execution_count": 87,
   "metadata": {},
   "outputs": [],
   "source": [
    "modulation2=zeros(num_lpfc)\n",
    "\n",
    "for idx in range(num_lpfc): \n",
    "    modulation2[idx]=1.0/(idx+1)"
   ]
  },
  {
   "cell_type": "code",
   "execution_count": 88,
   "metadata": {},
   "outputs": [],
   "source": [
    "weights_dlpfc=randint(num_dlpfc,size=(num_dlpfc,num_lpfc))\n",
    "weights_dlpfc_rank=argsort(weights_dlpfc,axis=1)\n",
    "weights_dlpfc=modulation2[weights_dlpfc_rank]\n",
    "\n",
    "lpfc_activation=zeros(num_lpfc)\n"
   ]
  },
  {
   "cell_type": "code",
   "execution_count": 90,
   "metadata": {},
   "outputs": [],
   "source": [
    "for idx in arange(num_dlpfc):\n",
    "    # input\n",
    "    seq_len=len(array_mat[idx])\n",
    "    rank_order_idx=argsort(array_mat[idx,:]) # the most active first rank\n",
    "    if pos_search_first:\n",
    "        #lpfc_activation=dot(weights_lpfc, modulation[rank_order_idx])\n",
    "        #lpfc_activation[::2]=dot(weights_lpfc[::2,rank_order_idx], modulation[::-1])\n",
    "        for i in arange(num_lpfc):\n",
    "            input_perm=permutation_key[i,array_mat[idx].astype('int')-1]\n",
    "            rank_order_idx=argsort(input_perm) # the most active first rank\n",
    "            lpfc_activation[i]=dot(weights_lpfc[i,:], modulation[rank_order_idx])\n",
    "    elif rank_search_first:\n",
    "        #lpfc_activation=dot(weights_lpfc[:,rank_order_idx], modulation)\n",
    "        #lpfc_activation[::2]=dot(weights_lpfc[::2,rank_order_idx], modulation[::-1])\n",
    "        for i in arange(num_lpfc):\n",
    "            input_perm=permutation_key[i,array_mat[idx].astype('int')-1]\n",
    "            rank_order_idx=argsort(input_perm) # the most active first rank\n",
    "            lpfc_activation[i]=dot(weights_lpfc[i,rank_order_idx], modulation)\n",
    "    #rankorder_dlpfc_idx=argsort(lpfc_activation)\n",
    "    #Kohonen like\n",
    "    weights_dlpfc[idx,:]=lpfc_activation"
   ]
  },
  {
   "cell_type": "markdown",
   "metadata": {},
   "source": [
    "## 3 OPTIMIZATION PROCESS"
   ]
  },
  {
   "cell_type": "code",
   "execution_count": 91,
   "metadata": {},
   "outputs": [],
   "source": [
    "activation_max=1"
   ]
  },
  {
   "cell_type": "markdown",
   "metadata": {},
   "source": [
    "### 3.1 Select one goal unit"
   ]
  },
  {
   "cell_type": "code",
   "execution_count": 92,
   "metadata": {},
   "outputs": [],
   "source": [
    "dlpfc_goal=randint(num_dlpfc)"
   ]
  },
  {
   "cell_type": "markdown",
   "metadata": {},
   "source": [
    "### 3.2 INIT OFC"
   ]
  },
  {
   "cell_type": "code",
   "execution_count": 93,
   "metadata": {},
   "outputs": [],
   "source": [
    "backed_error=100\n",
    "lpfc_input=zeros(comp_len)\n",
    "ofc_output=zeros(comp_len)\n",
    "ofc_output=randint(amin_val,amax_val+1,comp_len)\n",
    "\n",
    "num_ofc=num_dlpfc\n",
    "error_ofc=100*ones(num_ofc) \n",
    "weights_ofc=randint(num_ofc,size=(num_dlpfc,comp_len))\n",
    "\n",
    "error_win=10\n",
    "output_win=ones(comp_len) "
   ]
  },
  {
   "cell_type": "markdown",
   "metadata": {},
   "source": [
    "### 3.3 keep N items orderely within the sequence"
   ]
  },
  {
   "cell_type": "code",
   "execution_count": 94,
   "metadata": {},
   "outputs": [],
   "source": [
    "num_kept=0\n",
    "kept_idx=range(num_kept)\n",
    "ofc_output[kept_idx]=array_mat[dlpfc_goal,kept_idx]"
   ]
  },
  {
   "cell_type": "markdown",
   "metadata": {},
   "source": [
    "### 3.4 INIT Simulated Annealing"
   ]
  },
  {
   "cell_type": "code",
   "execution_count": 96,
   "metadata": {},
   "outputs": [],
   "source": [
    "T = 0.0\n",
    "T_min = 0.00000001\n",
    "T_min = 0\n",
    "alpha = 0.999\n",
    "kb=1.0\n",
    "d_error=1\n",
    "dlpfc_threshold=T_min\n",
    "\n",
    "#3.5 Backup Array\n",
    "lpfc_dyn=[]\n",
    "opt_ofc_dyn=[]\n",
    "dlpfc_dyn=[]\n",
    "error_dyn=[]\n",
    "\n",
    "measure1=0\n",
    "measure2=0\n",
    "\n",
    "dlpfc_max=dlpfc_goal\n",
    "iter_search=1000000"
   ]
  },
  {
   "cell_type": "markdown",
   "metadata": {},
   "source": [
    "### 3.6 Delayed Optimization after X iterations"
   ]
  },
  {
   "cell_type": "code",
   "execution_count": 97,
   "metadata": {},
   "outputs": [
    {
     "name": "stderr",
     "output_type": "stream",
     "text": [
      "<ipython-input-97-4f38bc9049c5>:51: RuntimeWarning: divide by zero encountered in double_scalars\n",
      "  ap = exp(-d_error/(T*kb))\n"
     ]
    },
    {
     "name": "stdout",
     "output_type": "stream",
     "text": [
      "iter 0 dlpfc 6467 : 0.004346 kept err 100.000000 win err 10 temp: 0.000000\n",
      "iter 1 dlpfc 6467 : 0.004962 kept err 0.004346 win err 0.00434592 temp: 0.000000\n",
      "iter 2 dlpfc 6467 : 0.004381 kept err 0.004346 win err 0.00434592 temp: 0.000000\n",
      "iter 3 dlpfc 1579 : 0.007028 kept err 0.004346 win err 0.00434592 temp: 0.000000\n",
      "iter 4 dlpfc 1579 : 0.007097 kept err 0.004346 win err 0.00434592 temp: 0.000000\n",
      "iter 5 dlpfc 6467 : 0.004792 kept err 0.004346 win err 0.00434592 temp: 0.000000\n",
      "iter 6 dlpfc 6467 : 0.003841 kept err 0.004346 win err 0.00434592 temp: 0.000000\n",
      "iter 7 dlpfc 6348 : 0.005424 kept err 0.003841 win err 0.00384106 temp: 0.000000\n",
      "iter 8 dlpfc 6467 : 0.003861 kept err 0.003841 win err 0.00384106 temp: 0.000000\n",
      "iter 9 dlpfc 1579 : 0.007127 kept err 0.003841 win err 0.00384106 temp: 0.000000\n",
      "iter 10 dlpfc 5373 : 0.004484 kept err 0.003841 win err 0.00384106 temp: 0.000000\n",
      "iter 11 dlpfc 6467 : 0.003422 kept err 0.003841 win err 0.00384106 temp: 0.000000\n",
      "iter 12 dlpfc 1579 : 0.007227 kept err 0.003422 win err 0.00342209 temp: 0.000000\n",
      "iter 13 dlpfc 6467 : 0.003552 kept err 0.003422 win err 0.00342209 temp: 0.000000\n",
      "iter 14 dlpfc 12467 : 0.007518 kept err 0.003422 win err 0.00342209 temp: 0.000000\n",
      "iter 15 dlpfc 15411 : 0.007278 kept err 0.003422 win err 0.00342209 temp: 0.000000\n",
      "iter 16 dlpfc 6467 : 0.003552 kept err 0.003422 win err 0.00342209 temp: 0.000000\n",
      "iter 17 dlpfc 6467 : 0.001885 kept err 0.003422 win err 0.00342209 temp: 0.000000\n",
      "iter 18 dlpfc 17118 : 0.005047 kept err 0.001885 win err 0.00188476 temp: 0.000000\n",
      "iter 19 dlpfc 6467 : 0.001817 kept err 0.001885 win err 0.00188476 temp: 0.000000\n",
      "iter 20 dlpfc 4036 : 0.005221 kept err 0.001817 win err 0.0018169 temp: 0.000000\n",
      "iter 21 dlpfc 15411 : 0.007414 kept err 0.001817 win err 0.0018169 temp: 0.000000\n",
      "iter 22 dlpfc 6467 : 0.001657 kept err 0.001817 win err 0.0018169 temp: 0.000000\n",
      "iter 23 dlpfc 6467 : 0.001775 kept err 0.001657 win err 0.00165653 temp: 0.000000\n",
      "iter 24 dlpfc 6467 : 0.001679 kept err 0.001657 win err 0.00165653 temp: 0.000000\n",
      "iter 25 dlpfc 6467 : 0.001623 kept err 0.001657 win err 0.00165653 temp: 0.000000\n",
      "iter 26 dlpfc 6467 : 0.001650 kept err 0.001623 win err 0.00162343 temp: 0.000000\n",
      "iter 27 dlpfc 985 : 0.007259 kept err 0.001623 win err 0.00162343 temp: 0.000000\n",
      "iter 28 dlpfc 6467 : 0.002815 kept err 0.001623 win err 0.00162343 temp: 0.000000\n",
      "iter 29 dlpfc 6467 : 0.001546 kept err 0.001623 win err 0.00162343 temp: 0.000000\n",
      "iter 30 dlpfc 6467 : 0.001895 kept err 0.001546 win err 0.00154555 temp: 0.000000\n",
      "iter 31 dlpfc 6467 : 0.001587 kept err 0.001546 win err 0.00154555 temp: 0.000000\n",
      "iter 32 dlpfc 985 : 0.008091 kept err 0.001546 win err 0.00154555 temp: 0.000000\n",
      "iter 33 dlpfc 6467 : 0.001583 kept err 0.001546 win err 0.00154555 temp: 0.000000\n",
      "iter 34 dlpfc 15592 : 0.005045 kept err 0.001546 win err 0.00154555 temp: 0.000000\n",
      "iter 35 dlpfc 6467 : 0.003844 kept err 0.001546 win err 0.00154555 temp: 0.000000\n",
      "iter 36 dlpfc 6467 : 0.001904 kept err 0.001546 win err 0.00154555 temp: 0.000000\n",
      "iter 37 dlpfc 6467 : 0.001966 kept err 0.001546 win err 0.00154555 temp: 0.000000\n",
      "iter 38 dlpfc 6467 : 0.001324 kept err 0.001546 win err 0.00154555 temp: 0.000000\n",
      "iter 39 dlpfc 6467 : 0.001402 kept err 0.001324 win err 0.00132441 temp: 0.000000\n",
      "iter 40 dlpfc 6467 : 0.001505 kept err 0.001324 win err 0.00132441 temp: 0.000000\n",
      "iter 41 dlpfc 6467 : 0.001376 kept err 0.001324 win err 0.00132441 temp: 0.000000\n",
      "iter 42 dlpfc 6467 : 0.001210 kept err 0.001324 win err 0.00132441 temp: 0.000000\n",
      "iter 43 dlpfc 6467 : 0.001242 kept err 0.001210 win err 0.00120985 temp: 0.000000\n",
      "iter 44 dlpfc 6467 : 0.001447 kept err 0.001210 win err 0.00120985 temp: 0.000000\n",
      "iter 45 dlpfc 4322 : 0.003393 kept err 0.001210 win err 0.00120985 temp: 0.000000\n",
      "iter 46 dlpfc 6467 : 0.002120 kept err 0.001210 win err 0.00120985 temp: 0.000000\n",
      "iter 47 dlpfc 6467 : 0.001097 kept err 0.001210 win err 0.00120985 temp: 0.000000\n",
      "iter 48 dlpfc 6467 : 0.001097 kept err 0.001097 win err 0.00109707 temp: 0.000000\n",
      "iter 49 dlpfc 6467 : 0.001076 kept err 0.001097 win err 0.00109707 temp: 0.000000\n",
      "iter 50 dlpfc 6467 : 0.001039 kept err 0.001076 win err 0.00107608 temp: 0.000000\n",
      "iter 51 dlpfc 6467 : 0.002166 kept err 0.001039 win err 0.00103949 temp: 0.000000\n",
      "iter 52 dlpfc 6467 : 0.000626 kept err 0.001039 win err 0.00103949 temp: 0.000000\n",
      "iter 53 dlpfc 6467 : 0.000615 kept err 0.000626 win err 0.000625922 temp: 0.000000\n",
      "iter 54 dlpfc 6467 : 0.000615 kept err 0.000615 win err 0.000614602 temp: 0.000000\n",
      "iter 55 dlpfc 9620 : 0.005075 kept err 0.000615 win err 0.000614602 temp: 0.000000\n",
      "iter 56 dlpfc 6467 : 0.002783 kept err 0.000615 win err 0.000614602 temp: 0.000000\n",
      "iter 57 dlpfc 70 : 0.002987 kept err 0.000615 win err 0.000614602 temp: 0.000000\n",
      "iter 58 dlpfc 488 : 0.003256 kept err 0.000615 win err 0.000614602 temp: 0.000000\n",
      "iter 59 dlpfc 6467 : 0.000597 kept err 0.000615 win err 0.000614602 temp: 0.000000\n",
      "iter 60 dlpfc 6467 : 0.000846 kept err 0.000597 win err 0.000596976 temp: 0.000000\n",
      "iter 61 dlpfc 6467 : 0.000600 kept err 0.000597 win err 0.000596976 temp: 0.000000\n",
      "iter 62 dlpfc 6467 : 0.000829 kept err 0.000597 win err 0.000596976 temp: 0.000000\n",
      "iter 63 dlpfc 6467 : 0.000647 kept err 0.000597 win err 0.000596976 temp: 0.000000\n"
     ]
    },
    {
     "name": "stderr",
     "output_type": "stream",
     "text": [
      "<ipython-input-97-4f38bc9049c5>:51: RuntimeWarning: invalid value encountered in double_scalars\n",
      "  ap = exp(-d_error/(T*kb))\n"
     ]
    },
    {
     "name": "stdout",
     "output_type": "stream",
     "text": [
      "iter 64 dlpfc 9622 : 0.003961 kept err 0.000597 win err 0.000596976 temp: 0.000000\n",
      "iter 65 dlpfc 6467 : 0.006739 kept err 0.000597 win err 0.000596976 temp: 0.000000\n",
      "iter 66 dlpfc 7944 : 0.007419 kept err 0.000597 win err 0.000596976 temp: 0.000000\n",
      "iter 67 dlpfc 6467 : 0.002209 kept err 0.000597 win err 0.000596976 temp: 0.000000\n",
      "iter 68 dlpfc 12313 : 0.004230 kept err 0.000597 win err 0.000596976 temp: 0.000000\n",
      "iter 69 dlpfc 15779 : 0.004199 kept err 0.000597 win err 0.000596976 temp: 0.000000\n",
      "iter 70 dlpfc 7944 : 0.007402 kept err 0.000597 win err 0.000596976 temp: 0.000000\n",
      "iter 71 dlpfc 6467 : 0.000776 kept err 0.000597 win err 0.000596976 temp: 0.000000\n",
      "iter 72 dlpfc 6467 : 0.000583 kept err 0.000597 win err 0.000596976 temp: 0.000000\n",
      "iter 73 dlpfc 6467 : 0.000586 kept err 0.000583 win err 0.000582921 temp: 0.000000\n",
      "iter 74 dlpfc 6467 : 0.000548 kept err 0.000583 win err 0.000582921 temp: 0.000000\n",
      "iter 75 dlpfc 6467 : 0.000548 kept err 0.000548 win err 0.000547785 temp: 0.000000\n",
      "iter 76 dlpfc 6467 : 0.000772 kept err 0.000548 win err 0.000547785 temp: 0.000000\n",
      "iter 77 dlpfc 6467 : 0.000583 kept err 0.000548 win err 0.000547785 temp: 0.000000\n",
      "iter 78 dlpfc 6467 : 0.000689 kept err 0.000548 win err 0.000547785 temp: 0.000000\n",
      "iter 79 dlpfc 6467 : 0.000548 kept err 0.000548 win err 0.000547785 temp: 0.000000\n",
      "iter 80 dlpfc 6467 : 0.001413 kept err 0.000548 win err 0.000547785 temp: 0.000000\n",
      "iter 81 dlpfc 6467 : 0.000800 kept err 0.000548 win err 0.000547785 temp: 0.000000\n",
      "iter 82 dlpfc 6467 : 0.000582 kept err 0.000548 win err 0.000547785 temp: 0.000000\n",
      "iter 83 dlpfc 6467 : 0.002454 kept err 0.000548 win err 0.000547785 temp: 0.000000\n",
      "iter 84 dlpfc 6467 : 0.000569 kept err 0.000548 win err 0.000547785 temp: 0.000000\n",
      "iter 85 dlpfc 6467 : 0.000727 kept err 0.000548 win err 0.000547785 temp: 0.000000\n",
      "iter 86 dlpfc 6467 : 0.000555 kept err 0.000548 win err 0.000547785 temp: 0.000000\n",
      "iter 87 dlpfc 10431 : 0.005791 kept err 0.000548 win err 0.000547785 temp: 0.000000\n",
      "iter 88 dlpfc 6467 : 0.000831 kept err 0.000548 win err 0.000547785 temp: 0.000000\n",
      "iter 89 dlpfc 9163 : 0.006354 kept err 0.000548 win err 0.000547785 temp: 0.000000\n",
      "iter 90 dlpfc 6467 : 0.003602 kept err 0.000548 win err 0.000547785 temp: 0.000000\n",
      "iter 91 dlpfc 6467 : 0.000724 kept err 0.000548 win err 0.000547785 temp: 0.000000\n",
      "iter 92 dlpfc 6467 : 0.000338 kept err 0.000548 win err 0.000547785 temp: 0.000000\n",
      "iter 93 dlpfc 4042 : 0.004516 kept err 0.000338 win err 0.000338299 temp: 0.000000\n",
      "iter 94 dlpfc 6467 : 0.001617 kept err 0.000338 win err 0.000338299 temp: 0.000000\n",
      "iter 95 dlpfc 3652 : 0.003815 kept err 0.000338 win err 0.000338299 temp: 0.000000\n",
      "iter 96 dlpfc 6467 : 0.000305 kept err 0.000338 win err 0.000338299 temp: 0.000000\n",
      "iter 97 dlpfc 6467 : 0.003034 kept err 0.000305 win err 0.00030466 temp: 0.000000\n",
      "iter 98 dlpfc 6467 : 0.001200 kept err 0.000305 win err 0.00030466 temp: 0.000000\n",
      "iter 99 dlpfc 6467 : 0.000305 kept err 0.000305 win err 0.00030466 temp: 0.000000\n",
      "iter 100 dlpfc 1498 : 0.003443 kept err 0.000305 win err 0.00030466 temp: 0.000000\n",
      "iter 101 dlpfc 6467 : 0.000654 kept err 0.000305 win err 0.00030466 temp: 0.000000\n",
      "iter 102 dlpfc 4036 : 0.008435 kept err 0.000305 win err 0.00030466 temp: 0.000000\n",
      "iter 103 dlpfc 6467 : 0.000315 kept err 0.000305 win err 0.00030466 temp: 0.000000\n",
      "iter 104 dlpfc 6467 : 0.000306 kept err 0.000305 win err 0.00030466 temp: 0.000000\n",
      "iter 105 dlpfc 6467 : 0.000306 kept err 0.000305 win err 0.00030466 temp: 0.000000\n",
      "iter 106 dlpfc 6467 : 0.001898 kept err 0.000305 win err 0.00030466 temp: 0.000000\n",
      "iter 107 dlpfc 6467 : 0.001675 kept err 0.000305 win err 0.00030466 temp: 0.000000\n",
      "iter 108 dlpfc 6467 : 0.000369 kept err 0.000305 win err 0.00030466 temp: 0.000000\n",
      "iter 109 dlpfc 10431 : 0.006171 kept err 0.000305 win err 0.00030466 temp: 0.000000\n",
      "iter 110 dlpfc 6467 : 0.000752 kept err 0.000305 win err 0.00030466 temp: 0.000000\n",
      "iter 111 dlpfc 6467 : 0.000305 kept err 0.000305 win err 0.00030466 temp: 0.000000\n",
      "iter 112 dlpfc 6467 : 0.000770 kept err 0.000305 win err 0.00030466 temp: 0.000000\n",
      "iter 113 dlpfc 10431 : 0.006159 kept err 0.000305 win err 0.00030466 temp: 0.000000\n",
      "iter 114 dlpfc 17260 : 0.005303 kept err 0.000305 win err 0.00030466 temp: 0.000000\n",
      "iter 115 dlpfc 17007 : 0.005381 kept err 0.000305 win err 0.00030466 temp: 0.000000\n",
      "iter 116 dlpfc 6467 : 0.002778 kept err 0.000305 win err 0.00030466 temp: 0.000000\n",
      "iter 117 dlpfc 6467 : 0.000282 kept err 0.000305 win err 0.00030466 temp: 0.000000\n",
      "iter 118 dlpfc 985 : 0.007539 kept err 0.000282 win err 0.000281653 temp: 0.000000\n",
      "iter 119 dlpfc 6467 : 0.000722 kept err 0.000282 win err 0.000281653 temp: 0.000000\n",
      "iter 120 dlpfc 985 : 0.007550 kept err 0.000282 win err 0.000281653 temp: 0.000000\n",
      "iter 121 dlpfc 985 : 0.007501 kept err 0.000282 win err 0.000281653 temp: 0.000000\n",
      "iter 122 dlpfc 6467 : 0.001201 kept err 0.000282 win err 0.000281653 temp: 0.000000\n",
      "iter 123 dlpfc 15724 : 0.004642 kept err 0.000282 win err 0.000281653 temp: 0.000000\n",
      "iter 124 dlpfc 985 : 0.006681 kept err 0.000282 win err 0.000281653 temp: 0.000000\n",
      "iter 125 dlpfc 3885 : 0.005145 kept err 0.000282 win err 0.000281653 temp: 0.000000\n",
      "iter 126 dlpfc 3208 : 0.004729 kept err 0.000282 win err 0.000281653 temp: 0.000000\n",
      "iter 127 dlpfc 4036 : 0.008277 kept err 0.000282 win err 0.000281653 temp: 0.000000\n",
      "iter 128 dlpfc 985 : 0.007589 kept err 0.000282 win err 0.000281653 temp: 0.000000\n",
      "iter 129 dlpfc 6467 : 0.000387 kept err 0.000282 win err 0.000281653 temp: 0.000000\n",
      "iter 130 dlpfc 6467 : 0.003578 kept err 0.000282 win err 0.000281653 temp: 0.000000\n",
      "iter 131 dlpfc 6467 : 0.000287 kept err 0.000282 win err 0.000281653 temp: 0.000000\n",
      "iter 132 dlpfc 985 : 0.007367 kept err 0.000282 win err 0.000281653 temp: 0.000000\n",
      "iter 133 dlpfc 6467 : 0.000340 kept err 0.000282 win err 0.000281653 temp: 0.000000\n",
      "iter 134 dlpfc 6467 : 0.000297 kept err 0.000282 win err 0.000281653 temp: 0.000000\n",
      "iter 135 dlpfc 6467 : 0.000371 kept err 0.000282 win err 0.000281653 temp: 0.000000\n",
      "iter 136 dlpfc 985 : 0.007917 kept err 0.000282 win err 0.000281653 temp: 0.000000\n",
      "iter 137 dlpfc 985 : 0.007560 kept err 0.000282 win err 0.000281653 temp: 0.000000\n",
      "iter 138 dlpfc 6467 : 0.000369 kept err 0.000282 win err 0.000281653 temp: 0.000000\n",
      "iter 139 dlpfc 14900 : 0.005800 kept err 0.000282 win err 0.000281653 temp: 0.000000\n",
      "iter 140 dlpfc 985 : 0.007686 kept err 0.000282 win err 0.000281653 temp: 0.000000\n",
      "iter 141 dlpfc 6467 : 0.000304 kept err 0.000282 win err 0.000281653 temp: 0.000000\n",
      "iter 142 dlpfc 5148 : 0.004328 kept err 0.000282 win err 0.000281653 temp: 0.000000\n",
      "iter 143 dlpfc 4042 : 0.004491 kept err 0.000282 win err 0.000281653 temp: 0.000000\n",
      "iter 144 dlpfc 985 : 0.007375 kept err 0.000282 win err 0.000281653 temp: 0.000000\n",
      "iter 145 dlpfc 6467 : 0.000321 kept err 0.000282 win err 0.000281653 temp: 0.000000\n",
      "iter 146 dlpfc 6467 : 0.000297 kept err 0.000282 win err 0.000281653 temp: 0.000000\n",
      "iter 147 dlpfc 6467 : 0.000958 kept err 0.000282 win err 0.000281653 temp: 0.000000\n",
      "iter 148 dlpfc 2669 : 0.003990 kept err 0.000282 win err 0.000281653 temp: 0.000000\n",
      "iter 149 dlpfc 10439 : 0.008148 kept err 0.000282 win err 0.000281653 temp: 0.000000\n",
      "iter 150 dlpfc 6467 : 0.003065 kept err 0.000282 win err 0.000281653 temp: 0.000000\n",
      "iter 151 dlpfc 6467 : 0.002376 kept err 0.000282 win err 0.000281653 temp: 0.000000\n",
      "iter 152 dlpfc 6467 : 0.000366 kept err 0.000282 win err 0.000281653 temp: 0.000000\n",
      "iter 153 dlpfc 985 : 0.007728 kept err 0.000282 win err 0.000281653 temp: 0.000000\n",
      "iter 154 dlpfc 4974 : 0.003205 kept err 0.000282 win err 0.000281653 temp: 0.000000\n",
      "iter 155 dlpfc 5152 : 0.005307 kept err 0.000282 win err 0.000281653 temp: 0.000000\n",
      "iter 156 dlpfc 985 : 0.007723 kept err 0.000282 win err 0.000281653 temp: 0.000000\n",
      "iter 157 dlpfc 1579 : 0.005775 kept err 0.000282 win err 0.000281653 temp: 0.000000\n",
      "iter 158 dlpfc 6467 : 0.002861 kept err 0.000282 win err 0.000281653 temp: 0.000000\n",
      "iter 159 dlpfc 985 : 0.008040 kept err 0.000282 win err 0.000281653 temp: 0.000000\n",
      "iter 160 dlpfc 10198 : 0.006598 kept err 0.000282 win err 0.000281653 temp: 0.000000\n",
      "iter 161 dlpfc 2686 : 0.005364 kept err 0.000282 win err 0.000281653 temp: 0.000000\n",
      "iter 162 dlpfc 985 : 0.007599 kept err 0.000282 win err 0.000281653 temp: 0.000000\n",
      "iter 163 dlpfc 985 : 0.007763 kept err 0.000282 win err 0.000281653 temp: 0.000000\n",
      "iter 164 dlpfc 6467 : 0.000281 kept err 0.000282 win err 0.000281653 temp: 0.000000\n",
      "iter 165 dlpfc 6467 : 0.000304 kept err 0.000281 win err 0.00028092 temp: 0.000000\n",
      "iter 166 dlpfc 985 : 0.007682 kept err 0.000281 win err 0.00028092 temp: 0.000000\n",
      "iter 167 dlpfc 6467 : 0.000305 kept err 0.000281 win err 0.00028092 temp: 0.000000\n",
      "iter 168 dlpfc 6467 : 0.000336 kept err 0.000281 win err 0.00028092 temp: 0.000000\n",
      "iter 169 dlpfc 6467 : 0.000294 kept err 0.000281 win err 0.00028092 temp: 0.000000\n",
      "iter 170 dlpfc 6467 : 0.002499 kept err 0.000281 win err 0.00028092 temp: 0.000000\n",
      "iter 171 dlpfc 6467 : 0.000288 kept err 0.000281 win err 0.00028092 temp: 0.000000\n",
      "iter 172 dlpfc 985 : 0.006441 kept err 0.000281 win err 0.00028092 temp: 0.000000\n",
      "iter 173 dlpfc 6467 : 0.000318 kept err 0.000281 win err 0.00028092 temp: 0.000000\n",
      "iter 174 dlpfc 6467 : 0.000286 kept err 0.000281 win err 0.00028092 temp: 0.000000\n",
      "iter 175 dlpfc 5152 : 0.005286 kept err 0.000281 win err 0.00028092 temp: 0.000000\n",
      "iter 176 dlpfc 6467 : 0.000270 kept err 0.000281 win err 0.00028092 temp: 0.000000\n",
      "iter 177 dlpfc 985 : 0.007519 kept err 0.000270 win err 0.000269664 temp: 0.000000\n",
      "iter 178 dlpfc 985 : 0.007736 kept err 0.000270 win err 0.000269664 temp: 0.000000\n",
      "iter 179 dlpfc 5202 : 0.002931 kept err 0.000270 win err 0.000269664 temp: 0.000000\n",
      "iter 180 dlpfc 6467 : 0.000271 kept err 0.000270 win err 0.000269664 temp: 0.000000\n",
      "iter 181 dlpfc 6467 : 0.001104 kept err 0.000270 win err 0.000269664 temp: 0.000000\n",
      "iter 182 dlpfc 985 : 0.007844 kept err 0.000270 win err 0.000269664 temp: 0.000000\n",
      "iter 183 dlpfc 10198 : 0.006581 kept err 0.000270 win err 0.000269664 temp: 0.000000\n",
      "iter 184 dlpfc 985 : 0.007919 kept err 0.000270 win err 0.000269664 temp: 0.000000\n",
      "iter 185 dlpfc 11449 : 0.004232 kept err 0.000270 win err 0.000269664 temp: 0.000000\n",
      "iter 186 dlpfc 6467 : 0.001273 kept err 0.000270 win err 0.000269664 temp: 0.000000\n",
      "iter 187 dlpfc 6467 : 0.000287 kept err 0.000270 win err 0.000269664 temp: 0.000000\n",
      "iter 188 dlpfc 15664 : 0.004722 kept err 0.000270 win err 0.000269664 temp: 0.000000\n",
      "iter 189 dlpfc 6467 : 0.000275 kept err 0.000270 win err 0.000269664 temp: 0.000000\n",
      "iter 190 dlpfc 6467 : 0.000271 kept err 0.000270 win err 0.000269664 temp: 0.000000\n",
      "iter 191 dlpfc 985 : 0.007624 kept err 0.000270 win err 0.000269664 temp: 0.000000\n",
      "iter 192 dlpfc 6467 : 0.000351 kept err 0.000270 win err 0.000269664 temp: 0.000000\n",
      "iter 193 dlpfc 6467 : 0.000278 kept err 0.000270 win err 0.000269664 temp: 0.000000\n",
      "iter 194 dlpfc 3652 : 0.003959 kept err 0.000270 win err 0.000269664 temp: 0.000000\n",
      "iter 195 dlpfc 6467 : 0.000315 kept err 0.000270 win err 0.000269664 temp: 0.000000\n",
      "iter 196 dlpfc 6332 : 0.005060 kept err 0.000270 win err 0.000269664 temp: 0.000000\n",
      "iter 197 dlpfc 6467 : 0.000520 kept err 0.000270 win err 0.000269664 temp: 0.000000\n",
      "iter 198 dlpfc 6467 : 0.000878 kept err 0.000270 win err 0.000269664 temp: 0.000000\n",
      "iter 199 dlpfc 4036 : 0.008021 kept err 0.000270 win err 0.000269664 temp: 0.000000\n",
      "iter 200 dlpfc 6467 : 0.000287 kept err 0.000270 win err 0.000269664 temp: 0.000000\n",
      "iter 201 dlpfc 6467 : 0.000276 kept err 0.000270 win err 0.000269664 temp: 0.000000\n",
      "iter 202 dlpfc 985 : 0.007902 kept err 0.000270 win err 0.000269664 temp: 0.000000\n",
      "iter 203 dlpfc 6467 : 0.000965 kept err 0.000270 win err 0.000269664 temp: 0.000000\n",
      "iter 204 dlpfc 8210 : 0.004754 kept err 0.000270 win err 0.000269664 temp: 0.000000\n",
      "iter 205 dlpfc 985 : 0.007537 kept err 0.000270 win err 0.000269664 temp: 0.000000\n",
      "iter 206 dlpfc 6467 : 0.000297 kept err 0.000270 win err 0.000269664 temp: 0.000000\n",
      "iter 207 dlpfc 6467 : 0.000608 kept err 0.000270 win err 0.000269664 temp: 0.000000\n",
      "iter 208 dlpfc 985 : 0.008266 kept err 0.000270 win err 0.000269664 temp: 0.000000\n",
      "iter 209 dlpfc 985 : 0.007586 kept err 0.000270 win err 0.000269664 temp: 0.000000\n",
      "iter 210 dlpfc 146 : 0.003619 kept err 0.000270 win err 0.000269664 temp: 0.000000\n",
      "iter 211 dlpfc 985 : 0.007566 kept err 0.000270 win err 0.000269664 temp: 0.000000\n",
      "iter 212 dlpfc 6467 : 0.000465 kept err 0.000270 win err 0.000269664 temp: 0.000000\n",
      "iter 213 dlpfc 6467 : 0.001428 kept err 0.000270 win err 0.000269664 temp: 0.000000\n",
      "iter 214 dlpfc 985 : 0.007809 kept err 0.000270 win err 0.000269664 temp: 0.000000\n",
      "iter 215 dlpfc 985 : 0.007892 kept err 0.000270 win err 0.000269664 temp: 0.000000\n",
      "iter 216 dlpfc 17206 : 0.003105 kept err 0.000270 win err 0.000269664 temp: 0.000000\n",
      "iter 217 dlpfc 146 : 0.005857 kept err 0.000270 win err 0.000269664 temp: 0.000000\n",
      "iter 218 dlpfc 6467 : 0.000433 kept err 0.000270 win err 0.000269664 temp: 0.000000\n",
      "iter 219 dlpfc 6467 : 0.000179 kept err 0.000270 win err 0.000269664 temp: 0.000000\n",
      "iter 220 dlpfc 6467 : 0.000548 kept err 0.000179 win err 0.000179127 temp: 0.000000\n",
      "iter 221 dlpfc 520 : 0.002309 kept err 0.000179 win err 0.000179127 temp: 0.000000\n",
      "iter 222 dlpfc 985 : 0.007924 kept err 0.000179 win err 0.000179127 temp: 0.000000\n",
      "iter 223 dlpfc 6467 : 0.000193 kept err 0.000179 win err 0.000179127 temp: 0.000000\n",
      "iter 224 dlpfc 6467 : 0.000180 kept err 0.000179 win err 0.000179127 temp: 0.000000\n",
      "iter 225 dlpfc 6467 : 0.000179 kept err 0.000179 win err 0.000179127 temp: 0.000000\n",
      "iter 226 dlpfc 17260 : 0.005036 kept err 0.000179 win err 0.000179127 temp: 0.000000\n",
      "iter 227 dlpfc 9163 : 0.007642 kept err 0.000179 win err 0.000179127 temp: 0.000000\n",
      "iter 228 dlpfc 6467 : 0.000201 kept err 0.000179 win err 0.000179127 temp: 0.000000\n",
      "iter 229 dlpfc 6467 : 0.002332 kept err 0.000179 win err 0.000179127 temp: 0.000000\n",
      "iter 230 dlpfc 6467 : 0.000630 kept err 0.000179 win err 0.000179127 temp: 0.000000\n",
      "iter 231 dlpfc 6467 : 0.001095 kept err 0.000179 win err 0.000179127 temp: 0.000000\n",
      "iter 232 dlpfc 985 : 0.007943 kept err 0.000179 win err 0.000179127 temp: 0.000000\n",
      "iter 233 dlpfc 6467 : 0.000392 kept err 0.000179 win err 0.000179127 temp: 0.000000\n",
      "iter 234 dlpfc 6467 : 0.000160 kept err 0.000179 win err 0.000179127 temp: 0.000000\n",
      "iter 235 dlpfc 6467 : 0.000265 kept err 0.000160 win err 0.000160153 temp: 0.000000\n",
      "iter 236 dlpfc 6467 : 0.000172 kept err 0.000160 win err 0.000160153 temp: 0.000000\n",
      "iter 237 dlpfc 3208 : 0.004057 kept err 0.000160 win err 0.000160153 temp: 0.000000\n",
      "iter 238 dlpfc 6467 : 0.000566 kept err 0.000160 win err 0.000160153 temp: 0.000000\n",
      "iter 239 dlpfc 6467 : 0.000175 kept err 0.000160 win err 0.000160153 temp: 0.000000\n",
      "iter 240 dlpfc 6467 : 0.000160 kept err 0.000160 win err 0.000160153 temp: 0.000000\n",
      "iter 241 dlpfc 6467 : 0.000195 kept err 0.000160 win err 0.000160153 temp: 0.000000\n",
      "iter 242 dlpfc 6467 : 0.001179 kept err 0.000160 win err 0.000160153 temp: 0.000000\n",
      "iter 243 dlpfc 6467 : 0.001078 kept err 0.000160 win err 0.000160153 temp: 0.000000\n",
      "iter 244 dlpfc 6467 : 0.000172 kept err 0.000160 win err 0.000160153 temp: 0.000000\n",
      "iter 245 dlpfc 6467 : 0.000162 kept err 0.000160 win err 0.000160153 temp: 0.000000\n",
      "iter 246 dlpfc 146 : 0.003771 kept err 0.000160 win err 0.000160153 temp: 0.000000\n",
      "iter 247 dlpfc 17206 : 0.003138 kept err 0.000160 win err 0.000160153 temp: 0.000000\n",
      "iter 248 dlpfc 6467 : 0.000162 kept err 0.000160 win err 0.000160153 temp: 0.000000\n",
      "iter 249 dlpfc 6467 : 0.002240 kept err 0.000160 win err 0.000160153 temp: 0.000000\n",
      "iter 250 dlpfc 6467 : 0.000679 kept err 0.000160 win err 0.000160153 temp: 0.000000\n",
      "iter 251 dlpfc 6467 : 0.000216 kept err 0.000160 win err 0.000160153 temp: 0.000000\n",
      "iter 252 dlpfc 15411 : 0.006664 kept err 0.000160 win err 0.000160153 temp: 0.000000\n",
      "iter 253 dlpfc 6467 : 0.000210 kept err 0.000160 win err 0.000160153 temp: 0.000000\n",
      "iter 254 dlpfc 6467 : 0.002967 kept err 0.000160 win err 0.000160153 temp: 0.000000\n",
      "iter 255 dlpfc 17206 : 0.003138 kept err 0.000160 win err 0.000160153 temp: 0.000000\n",
      "iter 256 dlpfc 6467 : 0.000160 kept err 0.000160 win err 0.000160153 temp: 0.000000\n",
      "iter 257 dlpfc 6467 : 0.002292 kept err 0.000160 win err 0.000160153 temp: 0.000000\n",
      "iter 258 dlpfc 985 : 0.007446 kept err 0.000160 win err 0.000160153 temp: 0.000000\n",
      "iter 259 dlpfc 6467 : 0.000160 kept err 0.000160 win err 0.000160153 temp: 0.000000\n",
      "iter 260 dlpfc 6467 : 0.000503 kept err 0.000160 win err 0.000160153 temp: 0.000000\n",
      "iter 261 dlpfc 6467 : 0.000247 kept err 0.000160 win err 0.000160153 temp: 0.000000\n",
      "iter 262 dlpfc 6467 : 0.002294 kept err 0.000160 win err 0.000160153 temp: 0.000000\n",
      "iter 263 dlpfc 6467 : 0.001454 kept err 0.000160 win err 0.000160153 temp: 0.000000\n",
      "iter 264 dlpfc 5152 : 0.005625 kept err 0.000160 win err 0.000160153 temp: 0.000000\n",
      "iter 265 dlpfc 5202 : 0.002961 kept err 0.000160 win err 0.000160153 temp: 0.000000\n",
      "iter 266 dlpfc 985 : 0.006778 kept err 0.000160 win err 0.000160153 temp: 0.000000\n",
      "iter 267 dlpfc 985 : 0.008035 kept err 0.000160 win err 0.000160153 temp: 0.000000\n",
      "iter 268 dlpfc 16691 : 0.005476 kept err 0.000160 win err 0.000160153 temp: 0.000000\n",
      "iter 269 dlpfc 6467 : 0.000356 kept err 0.000160 win err 0.000160153 temp: 0.000000\n",
      "iter 270 dlpfc 2705 : 0.005585 kept err 0.000160 win err 0.000160153 temp: 0.000000\n",
      "iter 271 dlpfc 985 : 0.007981 kept err 0.000160 win err 0.000160153 temp: 0.000000\n",
      "iter 272 dlpfc 6467 : 0.000183 kept err 0.000160 win err 0.000160153 temp: 0.000000\n",
      "iter 273 dlpfc 6467 : 0.000159 kept err 0.000160 win err 0.000160153 temp: 0.000000\n",
      "iter 274 dlpfc 985 : 0.007876 kept err 0.000159 win err 0.000159475 temp: 0.000000\n",
      "iter 275 dlpfc 2730 : 0.004674 kept err 0.000159 win err 0.000159475 temp: 0.000000\n",
      "iter 276 dlpfc 985 : 0.007930 kept err 0.000159 win err 0.000159475 temp: 0.000000\n",
      "iter 277 dlpfc 4036 : 0.004962 kept err 0.000159 win err 0.000159475 temp: 0.000000\n",
      "iter 278 dlpfc 985 : 0.007925 kept err 0.000159 win err 0.000159475 temp: 0.000000\n",
      "iter 279 dlpfc 6467 : 0.000151 kept err 0.000159 win err 0.000159475 temp: 0.000000\n",
      "iter 280 dlpfc 6467 : 0.002035 kept err 0.000151 win err 0.000151156 temp: 0.000000\n",
      "iter 281 dlpfc 11449 : 0.004260 kept err 0.000151 win err 0.000151156 temp: 0.000000\n",
      "iter 282 dlpfc 6467 : 0.000261 kept err 0.000151 win err 0.000151156 temp: 0.000000\n",
      "iter 283 dlpfc 6467 : 0.000560 kept err 0.000151 win err 0.000151156 temp: 0.000000\n",
      "iter 284 dlpfc 6467 : 0.001158 kept err 0.000151 win err 0.000151156 temp: 0.000000\n",
      "iter 285 dlpfc 6467 : 0.000622 kept err 0.000151 win err 0.000151156 temp: 0.000000\n",
      "iter 286 dlpfc 6467 : 0.000199 kept err 0.000151 win err 0.000151156 temp: 0.000000\n",
      "iter 287 dlpfc 6467 : 0.000650 kept err 0.000151 win err 0.000151156 temp: 0.000000\n",
      "iter 288 dlpfc 6467 : 0.000392 kept err 0.000151 win err 0.000151156 temp: 0.000000\n",
      "iter 289 dlpfc 9267 : 0.001628 kept err 0.000151 win err 0.000151156 temp: 0.000000\n",
      "iter 290 dlpfc 2686 : 0.005283 kept err 0.000151 win err 0.000151156 temp: 0.000000\n",
      "iter 291 dlpfc 3652 : 0.003893 kept err 0.000151 win err 0.000151156 temp: 0.000000\n",
      "iter 292 dlpfc 6467 : 0.000167 kept err 0.000151 win err 0.000151156 temp: 0.000000\n",
      "iter 293 dlpfc 4036 : 0.006430 kept err 0.000151 win err 0.000151156 temp: 0.000000\n",
      "iter 294 dlpfc 6467 : 0.000426 kept err 0.000151 win err 0.000151156 temp: 0.000000\n",
      "iter 295 dlpfc 6467 : 0.000228 kept err 0.000151 win err 0.000151156 temp: 0.000000\n",
      "iter 296 dlpfc 6467 : 0.000272 kept err 0.000151 win err 0.000151156 temp: 0.000000\n",
      "iter 297 dlpfc 2777 : 0.003711 kept err 0.000151 win err 0.000151156 temp: 0.000000\n",
      "iter 298 dlpfc 6467 : 0.001094 kept err 0.000151 win err 0.000151156 temp: 0.000000\n",
      "iter 299 dlpfc 6467 : 0.000199 kept err 0.000151 win err 0.000151156 temp: 0.000000\n",
      "iter 300 dlpfc 1515 : 0.006737 kept err 0.000151 win err 0.000151156 temp: 0.000000\n",
      "iter 301 dlpfc 6467 : 0.000151 kept err 0.000151 win err 0.000151156 temp: 0.000000\n",
      "iter 302 dlpfc 6467 : 0.000338 kept err 0.000151 win err 0.000150814 temp: 0.000000\n",
      "iter 303 dlpfc 6467 : 0.000163 kept err 0.000151 win err 0.000150814 temp: 0.000000\n",
      "iter 304 dlpfc 6467 : 0.001652 kept err 0.000151 win err 0.000150814 temp: 0.000000\n",
      "iter 305 dlpfc 6467 : 0.001538 kept err 0.000151 win err 0.000150814 temp: 0.000000\n",
      "iter 306 dlpfc 6467 : 0.000151 kept err 0.000151 win err 0.000150814 temp: 0.000000\n",
      "iter 307 dlpfc 6467 : 0.000414 kept err 0.000151 win err 0.000150814 temp: 0.000000\n",
      "iter 308 dlpfc 9622 : 0.003349 kept err 0.000151 win err 0.000150814 temp: 0.000000\n",
      "iter 309 dlpfc 6467 : 0.000164 kept err 0.000151 win err 0.000150814 temp: 0.000000\n",
      "iter 310 dlpfc 6467 : 0.000487 kept err 0.000151 win err 0.000150814 temp: 0.000000\n",
      "iter 311 dlpfc 6467 : 0.001335 kept err 0.000151 win err 0.000150814 temp: 0.000000\n",
      "iter 312 dlpfc 6467 : 0.000142 kept err 0.000151 win err 0.000150814 temp: 0.000000\n",
      "iter 313 dlpfc 6467 : 0.000152 kept err 0.000142 win err 0.000141897 temp: 0.000000\n",
      "iter 314 dlpfc 6467 : 0.000200 kept err 0.000142 win err 0.000141897 temp: 0.000000\n",
      "iter 315 dlpfc 2777 : 0.003647 kept err 0.000142 win err 0.000141897 temp: 0.000000\n",
      "iter 316 dlpfc 6467 : 0.000183 kept err 0.000142 win err 0.000141897 temp: 0.000000\n",
      "iter 317 dlpfc 6467 : 0.000377 kept err 0.000142 win err 0.000141897 temp: 0.000000\n",
      "iter 318 dlpfc 13375 : 0.006434 kept err 0.000142 win err 0.000141897 temp: 0.000000\n",
      "iter 319 dlpfc 6467 : 0.000621 kept err 0.000142 win err 0.000141897 temp: 0.000000\n",
      "iter 320 dlpfc 6467 : 0.002434 kept err 0.000142 win err 0.000141897 temp: 0.000000\n",
      "iter 321 dlpfc 3208 : 0.006008 kept err 0.000142 win err 0.000141897 temp: 0.000000\n",
      "iter 322 dlpfc 6467 : 0.002383 kept err 0.000142 win err 0.000141897 temp: 0.000000\n",
      "iter 323 dlpfc 6467 : 0.000141 kept err 0.000142 win err 0.000141897 temp: 0.000000\n",
      "iter 324 dlpfc 16790 : 0.005549 kept err 0.000141 win err 0.000141142 temp: 0.000000\n",
      "iter 325 dlpfc 6467 : 0.002015 kept err 0.000141 win err 0.000141142 temp: 0.000000\n",
      "iter 326 dlpfc 6467 : 0.002241 kept err 0.000141 win err 0.000141142 temp: 0.000000\n",
      "iter 327 dlpfc 14900 : 0.006255 kept err 0.000141 win err 0.000141142 temp: 0.000000\n",
      "iter 328 dlpfc 6467 : 0.000159 kept err 0.000141 win err 0.000141142 temp: 0.000000\n",
      "iter 329 dlpfc 6467 : 0.000160 kept err 0.000141 win err 0.000141142 temp: 0.000000\n",
      "iter 330 dlpfc 6467 : 0.000286 kept err 0.000141 win err 0.000141142 temp: 0.000000\n",
      "iter 331 dlpfc 6467 : 0.000168 kept err 0.000141 win err 0.000141142 temp: 0.000000\n",
      "iter 332 dlpfc 6467 : 0.000141 kept err 0.000141 win err 0.000141142 temp: 0.000000\n",
      "iter 333 dlpfc 6467 : 0.000294 kept err 0.000141 win err 0.000141142 temp: 0.000000\n",
      "iter 334 dlpfc 10019 : 0.005678 kept err 0.000141 win err 0.000141142 temp: 0.000000\n",
      "iter 335 dlpfc 6467 : 0.002190 kept err 0.000141 win err 0.000141142 temp: 0.000000\n",
      "iter 336 dlpfc 6467 : 0.003281 kept err 0.000141 win err 0.000141142 temp: 0.000000\n",
      "iter 337 dlpfc 6467 : 0.000179 kept err 0.000141 win err 0.000141142 temp: 0.000000\n",
      "iter 338 dlpfc 3208 : 0.004979 kept err 0.000141 win err 0.000141142 temp: 0.000000\n",
      "iter 339 dlpfc 6467 : 0.000168 kept err 0.000141 win err 0.000141142 temp: 0.000000\n",
      "iter 340 dlpfc 6467 : 0.000146 kept err 0.000141 win err 0.000141142 temp: 0.000000\n",
      "iter 341 dlpfc 6467 : 0.000153 kept err 0.000141 win err 0.000141142 temp: 0.000000\n",
      "iter 342 dlpfc 6467 : 0.001086 kept err 0.000141 win err 0.000141142 temp: 0.000000\n",
      "iter 343 dlpfc 10198 : 0.006469 kept err 0.000141 win err 0.000141142 temp: 0.000000\n",
      "iter 344 dlpfc 6467 : 0.000783 kept err 0.000141 win err 0.000141142 temp: 0.000000\n",
      "iter 345 dlpfc 6467 : 0.001877 kept err 0.000141 win err 0.000141142 temp: 0.000000\n",
      "iter 346 dlpfc 15564 : 0.004145 kept err 0.000141 win err 0.000141142 temp: 0.000000\n",
      "iter 347 dlpfc 14900 : 0.006258 kept err 0.000141 win err 0.000141142 temp: 0.000000\n",
      "iter 348 dlpfc 6467 : 0.000212 kept err 0.000141 win err 0.000141142 temp: 0.000000\n",
      "iter 349 dlpfc 6467 : 0.000135 kept err 0.000141 win err 0.000141142 temp: 0.000000\n",
      "iter 350 dlpfc 6467 : 0.000133 kept err 0.000135 win err 0.000134541 temp: 0.000000\n",
      "iter 351 dlpfc 6467 : 0.000134 kept err 0.000133 win err 0.000132753 temp: 0.000000\n",
      "iter 352 dlpfc 6467 : 0.000138 kept err 0.000133 win err 0.000132753 temp: 0.000000\n",
      "iter 353 dlpfc 6467 : 0.000280 kept err 0.000133 win err 0.000132753 temp: 0.000000\n",
      "iter 354 dlpfc 6467 : 0.000168 kept err 0.000133 win err 0.000132753 temp: 0.000000\n",
      "iter 355 dlpfc 6467 : 0.000264 kept err 0.000133 win err 0.000132753 temp: 0.000000\n",
      "iter 356 dlpfc 6467 : 0.000133 kept err 0.000133 win err 0.000132753 temp: 0.000000\n",
      "iter 357 dlpfc 6467 : 0.000427 kept err 0.000133 win err 0.000132753 temp: 0.000000\n",
      "iter 358 dlpfc 10019 : 0.005649 kept err 0.000133 win err 0.000132753 temp: 0.000000\n",
      "iter 359 dlpfc 6467 : 0.000518 kept err 0.000133 win err 0.000132753 temp: 0.000000\n",
      "iter 360 dlpfc 6467 : 0.001064 kept err 0.000133 win err 0.000132753 temp: 0.000000\n",
      "iter 361 dlpfc 6990 : 0.002760 kept err 0.000133 win err 0.000132753 temp: 0.000000\n",
      "iter 362 dlpfc 6467 : 0.000140 kept err 0.000133 win err 0.000132753 temp: 0.000000\n",
      "iter 363 dlpfc 6467 : 0.000492 kept err 0.000133 win err 0.000132753 temp: 0.000000\n",
      "iter 364 dlpfc 6467 : 0.000134 kept err 0.000133 win err 0.000132753 temp: 0.000000\n",
      "iter 365 dlpfc 6467 : 0.000295 kept err 0.000133 win err 0.000132753 temp: 0.000000\n",
      "iter 366 dlpfc 985 : 0.008079 kept err 0.000133 win err 0.000132753 temp: 0.000000\n",
      "iter 367 dlpfc 6467 : 0.000149 kept err 0.000133 win err 0.000132753 temp: 0.000000\n",
      "iter 368 dlpfc 15995 : 0.004475 kept err 0.000133 win err 0.000132753 temp: 0.000000\n",
      "iter 369 dlpfc 6467 : 0.000362 kept err 0.000133 win err 0.000132753 temp: 0.000000\n",
      "iter 370 dlpfc 15564 : 0.004072 kept err 0.000133 win err 0.000132753 temp: 0.000000\n",
      "iter 371 dlpfc 6467 : 0.000366 kept err 0.000133 win err 0.000132753 temp: 0.000000\n",
      "iter 372 dlpfc 6467 : 0.000158 kept err 0.000133 win err 0.000132753 temp: 0.000000\n",
      "iter 373 dlpfc 6467 : 0.000145 kept err 0.000133 win err 0.000132753 temp: 0.000000\n",
      "iter 374 dlpfc 6467 : 0.000216 kept err 0.000133 win err 0.000132753 temp: 0.000000\n",
      "iter 375 dlpfc 6467 : 0.000219 kept err 0.000133 win err 0.000132753 temp: 0.000000\n",
      "iter 376 dlpfc 6467 : 0.000262 kept err 0.000133 win err 0.000132753 temp: 0.000000\n",
      "iter 377 dlpfc 6467 : 0.001064 kept err 0.000133 win err 0.000132753 temp: 0.000000\n",
      "iter 378 dlpfc 6467 : 0.000209 kept err 0.000133 win err 0.000132753 temp: 0.000000\n",
      "iter 379 dlpfc 6467 : 0.000678 kept err 0.000133 win err 0.000132753 temp: 0.000000\n",
      "iter 380 dlpfc 6467 : 0.000205 kept err 0.000133 win err 0.000132753 temp: 0.000000\n",
      "iter 381 dlpfc 6467 : 0.000133 kept err 0.000133 win err 0.000132753 temp: 0.000000\n",
      "iter 382 dlpfc 6467 : 0.000768 kept err 0.000133 win err 0.000132753 temp: 0.000000\n",
      "iter 383 dlpfc 6467 : 0.000231 kept err 0.000133 win err 0.000132753 temp: 0.000000\n",
      "iter 384 dlpfc 6467 : 0.000130 kept err 0.000133 win err 0.000132753 temp: 0.000000\n",
      "iter 385 dlpfc 6467 : 0.001118 kept err 0.000130 win err 0.000130238 temp: 0.000000\n",
      "iter 386 dlpfc 6467 : 0.000136 kept err 0.000130 win err 0.000130238 temp: 0.000000\n",
      "iter 387 dlpfc 1498 : 0.003552 kept err 0.000130 win err 0.000130238 temp: 0.000000\n",
      "iter 388 dlpfc 12776 : 0.005176 kept err 0.000130 win err 0.000130238 temp: 0.000000\n",
      "iter 389 dlpfc 7944 : 0.004234 kept err 0.000130 win err 0.000130238 temp: 0.000000\n",
      "iter 390 dlpfc 6467 : 0.002005 kept err 0.000130 win err 0.000130238 temp: 0.000000\n",
      "iter 391 dlpfc 6467 : 0.000320 kept err 0.000130 win err 0.000130238 temp: 0.000000\n",
      "iter 392 dlpfc 985 : 0.008109 kept err 0.000130 win err 0.000130238 temp: 0.000000\n",
      "iter 393 dlpfc 6467 : 0.001105 kept err 0.000130 win err 0.000130238 temp: 0.000000\n",
      "iter 394 dlpfc 6467 : 0.000828 kept err 0.000130 win err 0.000130238 temp: 0.000000\n",
      "iter 395 dlpfc 6467 : 0.001198 kept err 0.000130 win err 0.000130238 temp: 0.000000\n",
      "iter 396 dlpfc 985 : 0.008011 kept err 0.000130 win err 0.000130238 temp: 0.000000\n",
      "iter 397 dlpfc 985 : 0.008517 kept err 0.000130 win err 0.000130238 temp: 0.000000\n",
      "iter 398 dlpfc 6467 : 0.000636 kept err 0.000130 win err 0.000130238 temp: 0.000000\n",
      "iter 399 dlpfc 6467 : 0.001177 kept err 0.000130 win err 0.000130238 temp: 0.000000\n",
      "iter 400 dlpfc 11699 : 0.003467 kept err 0.000130 win err 0.000130238 temp: 0.000000\n",
      "iter 401 dlpfc 6467 : 0.000198 kept err 0.000130 win err 0.000130238 temp: 0.000000\n",
      "iter 402 dlpfc 6467 : 0.000324 kept err 0.000130 win err 0.000130238 temp: 0.000000\n",
      "iter 403 dlpfc 6467 : 0.002864 kept err 0.000130 win err 0.000130238 temp: 0.000000\n",
      "iter 404 dlpfc 6467 : 0.000379 kept err 0.000130 win err 0.000130238 temp: 0.000000\n",
      "iter 405 dlpfc 17206 : 0.003189 kept err 0.000130 win err 0.000130238 temp: 0.000000\n",
      "iter 406 dlpfc 6467 : 0.000279 kept err 0.000130 win err 0.000130238 temp: 0.000000\n",
      "iter 407 dlpfc 6467 : 0.000200 kept err 0.000130 win err 0.000130238 temp: 0.000000\n",
      "iter 408 dlpfc 6467 : 0.000775 kept err 0.000130 win err 0.000130238 temp: 0.000000\n",
      "iter 409 dlpfc 10100 : 0.005915 kept err 0.000130 win err 0.000130238 temp: 0.000000\n",
      "iter 410 dlpfc 6467 : 0.000159 kept err 0.000130 win err 0.000130238 temp: 0.000000\n",
      "iter 411 dlpfc 11699 : 0.003467 kept err 0.000130 win err 0.000130238 temp: 0.000000\n",
      "iter 412 dlpfc 6467 : 0.000135 kept err 0.000130 win err 0.000130238 temp: 0.000000\n",
      "iter 413 dlpfc 4185 : 0.003709 kept err 0.000130 win err 0.000130238 temp: 0.000000\n",
      "iter 414 dlpfc 6467 : 0.000374 kept err 0.000130 win err 0.000130238 temp: 0.000000\n",
      "iter 415 dlpfc 6467 : 0.000130 kept err 0.000130 win err 0.000130238 temp: 0.000000\n",
      "iter 416 dlpfc 6467 : 0.000161 kept err 0.000130 win err 0.000130238 temp: 0.000000\n",
      "iter 417 dlpfc 6467 : 0.000200 kept err 0.000130 win err 0.000130238 temp: 0.000000\n",
      "iter 418 dlpfc 6467 : 0.001573 kept err 0.000130 win err 0.000130238 temp: 0.000000\n",
      "iter 419 dlpfc 6467 : 0.000154 kept err 0.000130 win err 0.000130238 temp: 0.000000\n",
      "iter 420 dlpfc 1555 : 0.004469 kept err 0.000130 win err 0.000130238 temp: 0.000000\n",
      "iter 421 dlpfc 985 : 0.008207 kept err 0.000130 win err 0.000130238 temp: 0.000000\n",
      "iter 422 dlpfc 6467 : 0.000419 kept err 0.000130 win err 0.000130238 temp: 0.000000\n",
      "iter 423 dlpfc 6467 : 0.001267 kept err 0.000130 win err 0.000130238 temp: 0.000000\n",
      "iter 424 dlpfc 9620 : 0.005491 kept err 0.000130 win err 0.000130238 temp: 0.000000\n",
      "iter 425 dlpfc 17260 : 0.005235 kept err 0.000130 win err 0.000130238 temp: 0.000000\n",
      "iter 426 dlpfc 6467 : 0.000675 kept err 0.000130 win err 0.000130238 temp: 0.000000\n",
      "iter 427 dlpfc 6467 : 0.000519 kept err 0.000130 win err 0.000130238 temp: 0.000000\n",
      "iter 428 dlpfc 6467 : 0.001475 kept err 0.000130 win err 0.000130238 temp: 0.000000\n",
      "iter 429 dlpfc 6467 : 0.000297 kept err 0.000130 win err 0.000130238 temp: 0.000000\n",
      "iter 430 dlpfc 985 : 0.008091 kept err 0.000130 win err 0.000130238 temp: 0.000000\n",
      "iter 431 dlpfc 6467 : 0.000130 kept err 0.000130 win err 0.000130238 temp: 0.000000\n",
      "iter 432 dlpfc 6467 : 0.000136 kept err 0.000130 win err 0.000130238 temp: 0.000000\n",
      "iter 433 dlpfc 6467 : 0.000271 kept err 0.000130 win err 0.000130238 temp: 0.000000\n",
      "iter 434 dlpfc 6467 : 0.000285 kept err 0.000130 win err 0.000130238 temp: 0.000000\n",
      "iter 435 dlpfc 6467 : 0.000379 kept err 0.000130 win err 0.000130238 temp: 0.000000\n",
      "iter 436 dlpfc 6467 : 0.000204 kept err 0.000130 win err 0.000130238 temp: 0.000000\n",
      "iter 437 dlpfc 6467 : 0.000556 kept err 0.000130 win err 0.000130238 temp: 0.000000\n",
      "iter 438 dlpfc 6467 : 0.000256 kept err 0.000130 win err 0.000130238 temp: 0.000000\n",
      "iter 439 dlpfc 6467 : 0.000150 kept err 0.000130 win err 0.000130238 temp: 0.000000\n",
      "iter 440 dlpfc 12313 : 0.003631 kept err 0.000130 win err 0.000130238 temp: 0.000000\n",
      "iter 441 dlpfc 6467 : 0.000332 kept err 0.000130 win err 0.000130238 temp: 0.000000\n",
      "iter 442 dlpfc 15398 : 0.005325 kept err 0.000130 win err 0.000130238 temp: 0.000000\n",
      "iter 443 dlpfc 6467 : 0.000662 kept err 0.000130 win err 0.000130238 temp: 0.000000\n",
      "iter 444 dlpfc 6467 : 0.000160 kept err 0.000130 win err 0.000130238 temp: 0.000000\n",
      "iter 445 dlpfc 6467 : 0.000153 kept err 0.000130 win err 0.000130238 temp: 0.000000\n",
      "iter 446 dlpfc 6467 : 0.000745 kept err 0.000130 win err 0.000130238 temp: 0.000000\n",
      "iter 447 dlpfc 13375 : 0.006362 kept err 0.000130 win err 0.000130238 temp: 0.000000\n",
      "iter 448 dlpfc 6467 : 0.000169 kept err 0.000130 win err 0.000130238 temp: 0.000000\n",
      "iter 449 dlpfc 15104 : 0.004555 kept err 0.000130 win err 0.000130238 temp: 0.000000\n",
      "iter 450 dlpfc 9998 : 0.004161 kept err 0.000130 win err 0.000130238 temp: 0.000000\n",
      "iter 451 dlpfc 6467 : 0.003100 kept err 0.000130 win err 0.000130238 temp: 0.000000\n",
      "iter 452 dlpfc 6467 : 0.000131 kept err 0.000130 win err 0.000130238 temp: 0.000000\n",
      "iter 453 dlpfc 6467 : 0.000386 kept err 0.000130 win err 0.000130238 temp: 0.000000\n",
      "iter 454 dlpfc 6467 : 0.000211 kept err 0.000130 win err 0.000130238 temp: 0.000000\n",
      "iter 455 dlpfc 6467 : 0.000136 kept err 0.000130 win err 0.000130238 temp: 0.000000\n",
      "iter 456 dlpfc 6467 : 0.000256 kept err 0.000130 win err 0.000130238 temp: 0.000000\n",
      "iter 457 dlpfc 6467 : 0.000556 kept err 0.000130 win err 0.000130238 temp: 0.000000\n",
      "iter 458 dlpfc 15564 : 0.004086 kept err 0.000130 win err 0.000130238 temp: 0.000000\n",
      "iter 459 dlpfc 6467 : 0.001590 kept err 0.000130 win err 0.000130238 temp: 0.000000\n",
      "iter 460 dlpfc 6467 : 0.001368 kept err 0.000130 win err 0.000130238 temp: 0.000000\n",
      "iter 461 dlpfc 6467 : 0.001053 kept err 0.000130 win err 0.000130238 temp: 0.000000\n",
      "iter 462 dlpfc 6467 : 0.000184 kept err 0.000130 win err 0.000130238 temp: 0.000000\n",
      "iter 463 dlpfc 6467 : 0.002362 kept err 0.000130 win err 0.000130238 temp: 0.000000\n",
      "iter 464 dlpfc 6467 : 0.000543 kept err 0.000130 win err 0.000130238 temp: 0.000000\n",
      "iter 465 dlpfc 6467 : 0.000155 kept err 0.000130 win err 0.000130238 temp: 0.000000\n",
      "iter 466 dlpfc 6467 : 0.000150 kept err 0.000130 win err 0.000130238 temp: 0.000000\n",
      "iter 467 dlpfc 6467 : 0.000130 kept err 0.000130 win err 0.000130238 temp: 0.000000\n",
      "iter 468 dlpfc 6467 : 0.000142 kept err 0.000130 win err 0.000130238 temp: 0.000000\n",
      "iter 469 dlpfc 1317 : 0.004731 kept err 0.000130 win err 0.000130238 temp: 0.000000\n",
      "iter 470 dlpfc 0 : 0.005118 kept err 0.000130 win err 0.000130238 temp: 0.000000\n",
      "iter 471 dlpfc 6467 : 0.002192 kept err 0.000130 win err 0.000130238 temp: 0.000000\n",
      "iter 472 dlpfc 6467 : 0.000169 kept err 0.000130 win err 0.000130238 temp: 0.000000\n",
      "iter 473 dlpfc 6467 : 0.000359 kept err 0.000130 win err 0.000130238 temp: 0.000000\n",
      "iter 474 dlpfc 6467 : 0.002239 kept err 0.000130 win err 0.000130238 temp: 0.000000\n",
      "iter 475 dlpfc 6467 : 0.000133 kept err 0.000130 win err 0.000130238 temp: 0.000000\n",
      "iter 476 dlpfc 10100 : 0.003651 kept err 0.000130 win err 0.000130238 temp: 0.000000\n",
      "iter 477 dlpfc 6467 : 0.001190 kept err 0.000130 win err 0.000130238 temp: 0.000000\n",
      "iter 478 dlpfc 6467 : 0.000286 kept err 0.000130 win err 0.000130238 temp: 0.000000\n",
      "iter 479 dlpfc 6467 : 0.000331 kept err 0.000130 win err 0.000130238 temp: 0.000000\n",
      "iter 480 dlpfc 6467 : 0.000454 kept err 0.000130 win err 0.000130238 temp: 0.000000\n",
      "iter 481 dlpfc 15398 : 0.005325 kept err 0.000130 win err 0.000130238 temp: 0.000000\n",
      "iter 482 dlpfc 6467 : 0.000275 kept err 0.000130 win err 0.000130238 temp: 0.000000\n",
      "iter 483 dlpfc 6467 : 0.001238 kept err 0.000130 win err 0.000130238 temp: 0.000000\n",
      "iter 484 dlpfc 15724 : 0.004764 kept err 0.000130 win err 0.000130238 temp: 0.000000\n",
      "iter 485 dlpfc 6467 : 0.000131 kept err 0.000130 win err 0.000130238 temp: 0.000000\n",
      "iter 486 dlpfc 6467 : 0.000155 kept err 0.000130 win err 0.000130238 temp: 0.000000\n",
      "iter 487 dlpfc 12158 : 0.004786 kept err 0.000130 win err 0.000130238 temp: 0.000000\n",
      "iter 488 dlpfc 6467 : 0.000153 kept err 0.000130 win err 0.000130238 temp: 0.000000\n",
      "iter 489 dlpfc 6467 : 0.000130 kept err 0.000130 win err 0.000130238 temp: 0.000000\n",
      "iter 490 dlpfc 6467 : 0.000150 kept err 0.000130 win err 0.000130238 temp: 0.000000\n",
      "iter 491 dlpfc 1555 : 0.004469 kept err 0.000130 win err 0.000130238 temp: 0.000000\n",
      "iter 492 dlpfc 6467 : 0.000349 kept err 0.000130 win err 0.000130238 temp: 0.000000\n",
      "iter 493 dlpfc 6467 : 0.002311 kept err 0.000130 win err 0.000130238 temp: 0.000000\n",
      "iter 494 dlpfc 6467 : 0.000383 kept err 0.000130 win err 0.000130238 temp: 0.000000\n",
      "iter 495 dlpfc 6467 : 0.000320 kept err 0.000130 win err 0.000130238 temp: 0.000000\n",
      "iter 496 dlpfc 6467 : 0.001095 kept err 0.000130 win err 0.000130238 temp: 0.000000\n",
      "iter 497 dlpfc 6467 : 0.000114 kept err 0.000130 win err 0.000130238 temp: 0.000000\n",
      "iter 498 dlpfc 6467 : 0.000200 kept err 0.000114 win err 0.000114376 temp: 0.000000\n",
      "iter 499 dlpfc 6467 : 0.000570 kept err 0.000114 win err 0.000114376 temp: 0.000000\n",
      "iter 500 dlpfc 10198 : 0.006320 kept err 0.000114 win err 0.000114376 temp: 0.000000\n",
      "iter 501 dlpfc 6467 : 0.000192 kept err 0.000114 win err 0.000114376 temp: 0.000000\n",
      "iter 502 dlpfc 4322 : 0.003442 kept err 0.000114 win err 0.000114376 temp: 0.000000\n",
      "iter 503 dlpfc 6467 : 0.000362 kept err 0.000114 win err 0.000114376 temp: 0.000000\n",
      "iter 504 dlpfc 6467 : 0.000373 kept err 0.000114 win err 0.000114376 temp: 0.000000\n",
      "iter 505 dlpfc 985 : 0.008288 kept err 0.000114 win err 0.000114376 temp: 0.000000\n",
      "iter 506 dlpfc 10424 : 0.003431 kept err 0.000114 win err 0.000114376 temp: 0.000000\n",
      "iter 507 dlpfc 6467 : 0.000219 kept err 0.000114 win err 0.000114376 temp: 0.000000\n",
      "iter 508 dlpfc 6467 : 0.000132 kept err 0.000114 win err 0.000114376 temp: 0.000000\n",
      "iter 509 dlpfc 6467 : 0.000105 kept err 0.000114 win err 0.000114376 temp: 0.000000\n",
      "iter 510 dlpfc 11699 : 0.003576 kept err 0.000105 win err 0.000104935 temp: 0.000000\n",
      "iter 511 dlpfc 6467 : 0.000463 kept err 0.000105 win err 0.000104935 temp: 0.000000\n",
      "iter 512 dlpfc 12776 : 0.005225 kept err 0.000105 win err 0.000104935 temp: 0.000000\n",
      "iter 513 dlpfc 6467 : 0.001005 kept err 0.000105 win err 0.000104935 temp: 0.000000\n",
      "iter 514 dlpfc 6467 : 0.000175 kept err 0.000105 win err 0.000104935 temp: 0.000000\n",
      "iter 515 dlpfc 6467 : 0.000105 kept err 0.000105 win err 0.000104935 temp: 0.000000\n",
      "iter 516 dlpfc 6467 : 0.000261 kept err 0.000105 win err 0.000104935 temp: 0.000000\n",
      "iter 517 dlpfc 6467 : 0.000136 kept err 0.000105 win err 0.000104935 temp: 0.000000\n",
      "iter 518 dlpfc 6467 : 0.000118 kept err 0.000105 win err 0.000104935 temp: 0.000000\n",
      "iter 519 dlpfc 6467 : 0.000539 kept err 0.000105 win err 0.000104935 temp: 0.000000\n",
      "iter 520 dlpfc 6467 : 0.000493 kept err 0.000105 win err 0.000104935 temp: 0.000000\n",
      "iter 521 dlpfc 6467 : 0.001375 kept err 0.000105 win err 0.000104935 temp: 0.000000\n",
      "iter 522 dlpfc 6467 : 0.000343 kept err 0.000105 win err 0.000104935 temp: 0.000000\n",
      "iter 523 dlpfc 6467 : 0.000206 kept err 0.000105 win err 0.000104935 temp: 0.000000\n",
      "iter 524 dlpfc 9620 : 0.005364 kept err 0.000105 win err 0.000104935 temp: 0.000000\n",
      "iter 525 dlpfc 6467 : 0.000183 kept err 0.000105 win err 0.000104935 temp: 0.000000\n",
      "iter 526 dlpfc 6467 : 0.000137 kept err 0.000105 win err 0.000104935 temp: 0.000000\n",
      "iter 527 dlpfc 1498 : 0.003460 kept err 0.000105 win err 0.000104935 temp: 0.000000\n",
      "iter 528 dlpfc 6467 : 0.000145 kept err 0.000105 win err 0.000104935 temp: 0.000000\n",
      "iter 529 dlpfc 6467 : 0.003426 kept err 0.000105 win err 0.000104935 temp: 0.000000\n",
      "iter 530 dlpfc 6467 : 0.000288 kept err 0.000105 win err 0.000104935 temp: 0.000000\n",
      "iter 531 dlpfc 6467 : 0.001005 kept err 0.000105 win err 0.000104935 temp: 0.000000\n",
      "iter 532 dlpfc 17355 : 0.003974 kept err 0.000105 win err 0.000104935 temp: 0.000000\n",
      "iter 533 dlpfc 6467 : 0.003257 kept err 0.000105 win err 0.000104935 temp: 0.000000\n",
      "iter 534 dlpfc 9998 : 0.004226 kept err 0.000105 win err 0.000104935 temp: 0.000000\n",
      "iter 535 dlpfc 6467 : 0.000128 kept err 0.000105 win err 0.000104935 temp: 0.000000\n",
      "iter 536 dlpfc 17801 : 0.005879 kept err 0.000105 win err 0.000104935 temp: 0.000000\n",
      "iter 537 dlpfc 6467 : 0.000319 kept err 0.000105 win err 0.000104935 temp: 0.000000\n",
      "iter 538 dlpfc 6467 : 0.000096 kept err 0.000105 win err 0.000104935 temp: 0.000000\n",
      "iter 539 dlpfc 6467 : 0.001154 kept err 0.000096 win err 9.58184e-05 temp: 0.000000\n",
      "iter 540 dlpfc 6467 : 0.003305 kept err 0.000096 win err 9.58184e-05 temp: 0.000000\n",
      "iter 541 dlpfc 5152 : 0.005675 kept err 0.000096 win err 9.58184e-05 temp: 0.000000\n",
      "iter 542 dlpfc 6467 : 0.000096 kept err 0.000096 win err 9.58184e-05 temp: 0.000000\n",
      "iter 543 dlpfc 6467 : 0.000138 kept err 0.000096 win err 9.58184e-05 temp: 0.000000\n",
      "iter 544 dlpfc 6467 : 0.001008 kept err 0.000096 win err 9.58184e-05 temp: 0.000000\n",
      "iter 545 dlpfc 6467 : 0.000588 kept err 0.000096 win err 9.58184e-05 temp: 0.000000\n",
      "iter 546 dlpfc 6467 : 0.000328 kept err 0.000096 win err 9.58184e-05 temp: 0.000000\n",
      "iter 547 dlpfc 6467 : 0.002095 kept err 0.000096 win err 9.58184e-05 temp: 0.000000\n",
      "iter 548 dlpfc 6467 : 0.002423 kept err 0.000096 win err 9.58184e-05 temp: 0.000000\n",
      "iter 549 dlpfc 14311 : 0.006148 kept err 0.000096 win err 9.58184e-05 temp: 0.000000\n",
      "iter 550 dlpfc 6467 : 0.001893 kept err 0.000096 win err 9.58184e-05 temp: 0.000000\n",
      "iter 551 dlpfc 6467 : 0.000163 kept err 0.000096 win err 9.58184e-05 temp: 0.000000\n",
      "iter 552 dlpfc 16482 : 0.005193 kept err 0.000096 win err 9.58184e-05 temp: 0.000000\n",
      "iter 553 dlpfc 6467 : 0.000096 kept err 0.000096 win err 9.58184e-05 temp: 0.000000\n",
      "iter 554 dlpfc 6467 : 0.003425 kept err 0.000096 win err 9.58184e-05 temp: 0.000000\n",
      "iter 555 dlpfc 6467 : 0.000721 kept err 0.000096 win err 9.58184e-05 temp: 0.000000\n",
      "iter 556 dlpfc 6467 : 0.000108 kept err 0.000096 win err 9.58184e-05 temp: 0.000000\n",
      "iter 557 dlpfc 6467 : 0.000156 kept err 0.000096 win err 9.58184e-05 temp: 0.000000\n",
      "iter 558 dlpfc 6467 : 0.000588 kept err 0.000096 win err 9.58184e-05 temp: 0.000000\n",
      "iter 559 dlpfc 6467 : 0.000964 kept err 0.000096 win err 9.58184e-05 temp: 0.000000\n",
      "iter 560 dlpfc 6467 : 0.000118 kept err 0.000096 win err 9.58184e-05 temp: 0.000000\n",
      "iter 561 dlpfc 6467 : 0.000755 kept err 0.000096 win err 9.58184e-05 temp: 0.000000\n",
      "iter 562 dlpfc 6467 : 0.000351 kept err 0.000096 win err 9.58184e-05 temp: 0.000000\n",
      "iter 563 dlpfc 6467 : 0.000308 kept err 0.000096 win err 9.58184e-05 temp: 0.000000\n",
      "iter 564 dlpfc 6467 : 0.000462 kept err 0.000096 win err 9.58184e-05 temp: 0.000000\n",
      "iter 565 dlpfc 6467 : 0.000406 kept err 0.000096 win err 9.58184e-05 temp: 0.000000\n",
      "iter 566 dlpfc 6467 : 0.000190 kept err 0.000096 win err 9.58184e-05 temp: 0.000000\n",
      "iter 567 dlpfc 6467 : 0.000254 kept err 0.000096 win err 9.58184e-05 temp: 0.000000\n",
      "iter 568 dlpfc 6467 : 0.001391 kept err 0.000096 win err 9.58184e-05 temp: 0.000000\n",
      "iter 569 dlpfc 2686 : 0.005512 kept err 0.000096 win err 9.58184e-05 temp: 0.000000\n",
      "iter 570 dlpfc 1317 : 0.004861 kept err 0.000096 win err 9.58184e-05 temp: 0.000000\n",
      "iter 571 dlpfc 6467 : 0.000222 kept err 0.000096 win err 9.58184e-05 temp: 0.000000\n",
      "iter 572 dlpfc 6467 : 0.000159 kept err 0.000096 win err 9.58184e-05 temp: 0.000000\n",
      "iter 573 dlpfc 6467 : 0.000121 kept err 0.000096 win err 9.58184e-05 temp: 0.000000\n",
      "iter 574 dlpfc 6467 : 0.000556 kept err 0.000096 win err 9.58184e-05 temp: 0.000000\n",
      "iter 575 dlpfc 6467 : 0.000354 kept err 0.000096 win err 9.58184e-05 temp: 0.000000\n",
      "iter 576 dlpfc 6467 : 0.000117 kept err 0.000096 win err 9.58184e-05 temp: 0.000000\n",
      "iter 577 dlpfc 6467 : 0.000274 kept err 0.000096 win err 9.58184e-05 temp: 0.000000\n",
      "iter 578 dlpfc 6467 : 0.002009 kept err 0.000096 win err 9.58184e-05 temp: 0.000000\n",
      "iter 579 dlpfc 6467 : 0.000964 kept err 0.000096 win err 9.58184e-05 temp: 0.000000\n",
      "iter 580 dlpfc 6467 : 0.000124 kept err 0.000096 win err 9.58184e-05 temp: 0.000000\n",
      "iter 581 dlpfc 6467 : 0.000089 kept err 0.000096 win err 9.58184e-05 temp: 0.000000\n",
      "iter 582 dlpfc 6467 : 0.000746 kept err 0.000089 win err 8.87532e-05 temp: 0.000000\n",
      "iter 583 dlpfc 6467 : 0.000090 kept err 0.000089 win err 8.87532e-05 temp: 0.000000\n",
      "iter 584 dlpfc 6467 : 0.000089 kept err 0.000089 win err 8.87532e-05 temp: 0.000000\n",
      "iter 585 dlpfc 7153 : 0.004154 kept err 0.000089 win err 8.87532e-05 temp: 0.000000\n",
      "iter 586 dlpfc 6467 : 0.000606 kept err 0.000089 win err 8.87532e-05 temp: 0.000000\n",
      "iter 587 dlpfc 6467 : 0.000584 kept err 0.000089 win err 8.87532e-05 temp: 0.000000\n",
      "iter 588 dlpfc 6467 : 0.000954 kept err 0.000089 win err 8.87532e-05 temp: 0.000000\n",
      "iter 589 dlpfc 6467 : 0.000146 kept err 0.000089 win err 8.87532e-05 temp: 0.000000\n",
      "iter 590 dlpfc 6467 : 0.000175 kept err 0.000089 win err 8.87532e-05 temp: 0.000000\n",
      "iter 591 dlpfc 6467 : 0.000097 kept err 0.000089 win err 8.87532e-05 temp: 0.000000\n",
      "iter 592 dlpfc 6467 : 0.000206 kept err 0.000089 win err 8.87532e-05 temp: 0.000000\n",
      "iter 593 dlpfc 6467 : 0.002315 kept err 0.000089 win err 8.87532e-05 temp: 0.000000\n",
      "iter 594 dlpfc 6467 : 0.000127 kept err 0.000089 win err 8.87532e-05 temp: 0.000000\n",
      "iter 595 dlpfc 6467 : 0.000759 kept err 0.000089 win err 8.87532e-05 temp: 0.000000\n",
      "iter 596 dlpfc 6467 : 0.000093 kept err 0.000089 win err 8.87532e-05 temp: 0.000000\n",
      "iter 597 dlpfc 6467 : 0.000089 kept err 0.000089 win err 8.87532e-05 temp: 0.000000\n",
      "iter 598 dlpfc 14311 : 0.006139 kept err 0.000089 win err 8.87532e-05 temp: 0.000000\n",
      "iter 599 dlpfc 6467 : 0.000121 kept err 0.000089 win err 8.87532e-05 temp: 0.000000\n",
      "iter 600 dlpfc 6467 : 0.000216 kept err 0.000089 win err 8.87532e-05 temp: 0.000000\n",
      "iter 601 dlpfc 6467 : 0.000114 kept err 0.000089 win err 8.87532e-05 temp: 0.000000\n",
      "iter 602 dlpfc 6467 : 0.001054 kept err 0.000089 win err 8.87532e-05 temp: 0.000000\n",
      "iter 603 dlpfc 6467 : 0.000277 kept err 0.000089 win err 8.87532e-05 temp: 0.000000\n",
      "iter 604 dlpfc 6467 : 0.000097 kept err 0.000089 win err 8.87532e-05 temp: 0.000000\n",
      "iter 605 dlpfc 6467 : 0.000671 kept err 0.000089 win err 8.87532e-05 temp: 0.000000\n",
      "iter 606 dlpfc 5202 : 0.002983 kept err 0.000089 win err 8.87532e-05 temp: 0.000000\n",
      "iter 607 dlpfc 0 : 0.005138 kept err 0.000089 win err 8.87532e-05 temp: 0.000000\n",
      "iter 608 dlpfc 6467 : 0.000289 kept err 0.000089 win err 8.87532e-05 temp: 0.000000\n",
      "iter 609 dlpfc 6467 : 0.000322 kept err 0.000089 win err 8.87532e-05 temp: 0.000000\n",
      "iter 610 dlpfc 6467 : 0.000125 kept err 0.000089 win err 8.87532e-05 temp: 0.000000\n",
      "iter 611 dlpfc 6467 : 0.000089 kept err 0.000089 win err 8.87532e-05 temp: 0.000000\n",
      "iter 612 dlpfc 9620 : 0.005374 kept err 0.000089 win err 8.87532e-05 temp: 0.000000\n",
      "iter 613 dlpfc 6467 : 0.000587 kept err 0.000089 win err 8.87532e-05 temp: 0.000000\n",
      "iter 614 dlpfc 6467 : 0.000577 kept err 0.000089 win err 8.87532e-05 temp: 0.000000\n",
      "iter 615 dlpfc 6467 : 0.000127 kept err 0.000089 win err 8.87532e-05 temp: 0.000000\n",
      "iter 616 dlpfc 6467 : 0.002273 kept err 0.000089 win err 8.87532e-05 temp: 0.000000\n",
      "iter 617 dlpfc 1926 : 0.002205 kept err 0.000089 win err 8.87532e-05 temp: 0.000000\n",
      "iter 618 dlpfc 6467 : 0.000264 kept err 0.000089 win err 8.87532e-05 temp: 0.000000\n",
      "iter 619 dlpfc 6467 : 0.000176 kept err 0.000089 win err 8.87532e-05 temp: 0.000000\n",
      "iter 620 dlpfc 6467 : 0.000726 kept err 0.000089 win err 8.87532e-05 temp: 0.000000\n",
      "iter 621 dlpfc 6467 : 0.002135 kept err 0.000089 win err 8.87532e-05 temp: 0.000000\n",
      "iter 622 dlpfc 4322 : 0.003630 kept err 0.000089 win err 8.87532e-05 temp: 0.000000\n",
      "iter 623 dlpfc 7944 : 0.004323 kept err 0.000089 win err 8.87532e-05 temp: 0.000000\n",
      "iter 624 dlpfc 6467 : 0.001019 kept err 0.000089 win err 8.87532e-05 temp: 0.000000\n",
      "iter 625 dlpfc 9267 : 0.001807 kept err 0.000089 win err 8.87532e-05 temp: 0.000000\n",
      "iter 626 dlpfc 6467 : 0.000276 kept err 0.000089 win err 8.87532e-05 temp: 0.000000\n",
      "iter 627 dlpfc 6467 : 0.000691 kept err 0.000089 win err 8.87532e-05 temp: 0.000000\n",
      "iter 628 dlpfc 6467 : 0.000089 kept err 0.000089 win err 8.87532e-05 temp: 0.000000\n",
      "iter 629 dlpfc 6467 : 0.000471 kept err 0.000089 win err 8.87532e-05 temp: 0.000000\n",
      "iter 630 dlpfc 6467 : 0.000118 kept err 0.000089 win err 8.87532e-05 temp: 0.000000\n",
      "iter 631 dlpfc 15398 : 0.005443 kept err 0.000089 win err 8.87532e-05 temp: 0.000000\n",
      "iter 632 dlpfc 6467 : 0.000577 kept err 0.000089 win err 8.87532e-05 temp: 0.000000\n",
      "iter 633 dlpfc 6467 : 0.000471 kept err 0.000089 win err 8.87532e-05 temp: 0.000000\n",
      "iter 634 dlpfc 6467 : 0.000954 kept err 0.000089 win err 8.87532e-05 temp: 0.000000\n",
      "iter 635 dlpfc 12158 : 0.004644 kept err 0.000089 win err 8.87532e-05 temp: 0.000000\n",
      "iter 636 dlpfc 1515 : 0.006857 kept err 0.000089 win err 8.87532e-05 temp: 0.000000\n",
      "iter 637 dlpfc 3208 : 0.006081 kept err 0.000089 win err 8.87532e-05 temp: 0.000000\n",
      "iter 638 dlpfc 6467 : 0.000089 kept err 0.000089 win err 8.87532e-05 temp: 0.000000\n",
      "iter 639 dlpfc 6467 : 0.000089 kept err 0.000089 win err 8.87532e-05 temp: 0.000000\n",
      "iter 640 dlpfc 6467 : 0.000222 kept err 0.000089 win err 8.87532e-05 temp: 0.000000\n",
      "iter 641 dlpfc 6467 : 0.000560 kept err 0.000089 win err 8.87532e-05 temp: 0.000000\n",
      "iter 642 dlpfc 6467 : 0.000105 kept err 0.000089 win err 8.87532e-05 temp: 0.000000\n",
      "iter 643 dlpfc 6467 : 0.000577 kept err 0.000089 win err 8.87532e-05 temp: 0.000000\n",
      "iter 644 dlpfc 6467 : 0.000341 kept err 0.000089 win err 8.87532e-05 temp: 0.000000\n",
      "iter 645 dlpfc 6467 : 0.000109 kept err 0.000089 win err 8.87532e-05 temp: 0.000000\n",
      "iter 646 dlpfc 6467 : 0.001666 kept err 0.000089 win err 8.87532e-05 temp: 0.000000\n",
      "iter 647 dlpfc 6467 : 0.001356 kept err 0.000089 win err 8.87532e-05 temp: 0.000000\n",
      "iter 648 dlpfc 1317 : 0.004866 kept err 0.000089 win err 8.87532e-05 temp: 0.000000\n",
      "iter 649 dlpfc 6467 : 0.000193 kept err 0.000089 win err 8.87532e-05 temp: 0.000000\n",
      "iter 650 dlpfc 6467 : 0.000092 kept err 0.000089 win err 8.87532e-05 temp: 0.000000\n",
      "iter 651 dlpfc 6467 : 0.001751 kept err 0.000089 win err 8.87532e-05 temp: 0.000000\n",
      "iter 652 dlpfc 6467 : 0.000671 kept err 0.000089 win err 8.87532e-05 temp: 0.000000\n",
      "iter 653 dlpfc 6467 : 0.000179 kept err 0.000089 win err 8.87532e-05 temp: 0.000000\n",
      "iter 654 dlpfc 6467 : 0.000109 kept err 0.000089 win err 8.87532e-05 temp: 0.000000\n",
      "iter 655 dlpfc 14112 : 0.004676 kept err 0.000089 win err 8.87532e-05 temp: 0.000000\n",
      "iter 656 dlpfc 6467 : 0.000167 kept err 0.000089 win err 8.87532e-05 temp: 0.000000\n",
      "iter 657 dlpfc 6467 : 0.001407 kept err 0.000089 win err 8.87532e-05 temp: 0.000000\n",
      "iter 658 dlpfc 6467 : 0.001475 kept err 0.000089 win err 8.87532e-05 temp: 0.000000\n",
      "iter 659 dlpfc 6467 : 0.000288 kept err 0.000089 win err 8.87532e-05 temp: 0.000000\n",
      "iter 660 dlpfc 2730 : 0.004488 kept err 0.000089 win err 8.87532e-05 temp: 0.000000\n",
      "iter 661 dlpfc 6467 : 0.003662 kept err 0.000089 win err 8.87532e-05 temp: 0.000000\n",
      "iter 662 dlpfc 6467 : 0.000211 kept err 0.000089 win err 8.87532e-05 temp: 0.000000\n",
      "iter 663 dlpfc 6467 : 0.000671 kept err 0.000089 win err 8.87532e-05 temp: 0.000000\n",
      "iter 664 dlpfc 6467 : 0.000114 kept err 0.000089 win err 8.87532e-05 temp: 0.000000\n",
      "iter 665 dlpfc 13375 : 0.006382 kept err 0.000089 win err 8.87532e-05 temp: 0.000000\n",
      "iter 666 dlpfc 6467 : 0.000671 kept err 0.000089 win err 8.87532e-05 temp: 0.000000\n",
      "iter 667 dlpfc 6467 : 0.000246 kept err 0.000089 win err 8.87532e-05 temp: 0.000000\n",
      "iter 668 dlpfc 6467 : 0.003247 kept err 0.000089 win err 8.87532e-05 temp: 0.000000\n",
      "iter 669 dlpfc 6467 : 0.000089 kept err 0.000089 win err 8.87532e-05 temp: 0.000000\n",
      "iter 670 dlpfc 6467 : 0.000151 kept err 0.000089 win err 8.87121e-05 temp: 0.000000\n",
      "iter 671 dlpfc 6467 : 0.000470 kept err 0.000089 win err 8.87121e-05 temp: 0.000000\n",
      "iter 672 dlpfc 4036 : 0.008031 kept err 0.000089 win err 8.87121e-05 temp: 0.000000\n",
      "iter 673 dlpfc 12776 : 0.005391 kept err 0.000089 win err 8.87121e-05 temp: 0.000000\n",
      "iter 674 dlpfc 6467 : 0.000215 kept err 0.000089 win err 8.87121e-05 temp: 0.000000\n",
      "iter 675 dlpfc 6467 : 0.002653 kept err 0.000089 win err 8.87121e-05 temp: 0.000000\n",
      "iter 676 dlpfc 6467 : 0.000095 kept err 0.000089 win err 8.87121e-05 temp: 0.000000\n",
      "iter 677 dlpfc 6467 : 0.000107 kept err 0.000089 win err 8.87121e-05 temp: 0.000000\n",
      "iter 678 dlpfc 6467 : 0.000089 kept err 0.000089 win err 8.87121e-05 temp: 0.000000\n",
      "iter 679 dlpfc 6467 : 0.001213 kept err 0.000089 win err 8.87121e-05 temp: 0.000000\n",
      "iter 680 dlpfc 6467 : 0.000590 kept err 0.000089 win err 8.87121e-05 temp: 0.000000\n",
      "iter 681 dlpfc 6467 : 0.002434 kept err 0.000089 win err 8.87121e-05 temp: 0.000000\n",
      "iter 682 dlpfc 6467 : 0.001463 kept err 0.000089 win err 8.87121e-05 temp: 0.000000\n",
      "iter 683 dlpfc 14112 : 0.004718 kept err 0.000089 win err 8.87121e-05 temp: 0.000000\n",
      "iter 684 dlpfc 6467 : 0.000271 kept err 0.000089 win err 8.87121e-05 temp: 0.000000\n",
      "iter 685 dlpfc 6467 : 0.000109 kept err 0.000089 win err 8.87121e-05 temp: 0.000000\n",
      "iter 686 dlpfc 6467 : 0.001844 kept err 0.000089 win err 8.87121e-05 temp: 0.000000\n",
      "iter 687 dlpfc 6467 : 0.001665 kept err 0.000089 win err 8.87121e-05 temp: 0.000000\n",
      "iter 688 dlpfc 6467 : 0.001170 kept err 0.000089 win err 8.87121e-05 temp: 0.000000\n",
      "iter 689 dlpfc 6467 : 0.000089 kept err 0.000089 win err 8.87121e-05 temp: 0.000000\n",
      "iter 690 dlpfc 6467 : 0.000100 kept err 0.000089 win err 8.87121e-05 temp: 0.000000\n",
      "iter 691 dlpfc 6467 : 0.000752 kept err 0.000089 win err 8.87121e-05 temp: 0.000000\n",
      "iter 692 dlpfc 6467 : 0.000283 kept err 0.000089 win err 8.87121e-05 temp: 0.000000\n",
      "iter 693 dlpfc 6467 : 0.001213 kept err 0.000089 win err 8.87121e-05 temp: 0.000000\n",
      "iter 694 dlpfc 6467 : 0.000093 kept err 0.000089 win err 8.87121e-05 temp: 0.000000\n",
      "iter 695 dlpfc 6467 : 0.000148 kept err 0.000089 win err 8.87121e-05 temp: 0.000000\n",
      "iter 696 dlpfc 6467 : 0.001397 kept err 0.000089 win err 8.87121e-05 temp: 0.000000\n",
      "iter 697 dlpfc 6467 : 0.001042 kept err 0.000089 win err 8.87121e-05 temp: 0.000000\n",
      "iter 698 dlpfc 6467 : 0.000241 kept err 0.000089 win err 8.87121e-05 temp: 0.000000\n",
      "iter 699 dlpfc 10822 : 0.002482 kept err 0.000089 win err 8.87121e-05 temp: 0.000000\n",
      "iter 700 dlpfc 6467 : 0.001042 kept err 0.000089 win err 8.87121e-05 temp: 0.000000\n",
      "iter 701 dlpfc 6467 : 0.002023 kept err 0.000089 win err 8.87121e-05 temp: 0.000000\n",
      "iter 702 dlpfc 1555 : 0.004665 kept err 0.000089 win err 8.87121e-05 temp: 0.000000\n",
      "iter 703 dlpfc 6467 : 0.004814 kept err 0.000089 win err 8.87121e-05 temp: 0.000000\n",
      "iter 704 dlpfc 6467 : 0.000186 kept err 0.000089 win err 8.87121e-05 temp: 0.000000\n",
      "iter 705 dlpfc 6467 : 0.000087 kept err 0.000089 win err 8.87121e-05 temp: 0.000000\n",
      "iter 706 dlpfc 6467 : 0.000087 kept err 0.000087 win err 8.66165e-05 temp: 0.000000\n",
      "iter 707 dlpfc 6467 : 0.000299 kept err 0.000087 win err 8.66165e-05 temp: 0.000000\n",
      "iter 708 dlpfc 6467 : 0.000087 kept err 0.000087 win err 8.66165e-05 temp: 0.000000\n",
      "iter 709 dlpfc 6467 : 0.000543 kept err 0.000087 win err 8.66165e-05 temp: 0.000000\n",
      "iter 710 dlpfc 6467 : 0.003064 kept err 0.000087 win err 8.66165e-05 temp: 0.000000\n",
      "iter 711 dlpfc 6467 : 0.000099 kept err 0.000087 win err 8.66165e-05 temp: 0.000000\n",
      "iter 712 dlpfc 6467 : 0.001025 kept err 0.000087 win err 8.66165e-05 temp: 0.000000\n",
      "iter 713 dlpfc 6467 : 0.000116 kept err 0.000087 win err 8.66165e-05 temp: 0.000000\n",
      "iter 714 dlpfc 6467 : 0.000131 kept err 0.000087 win err 8.66165e-05 temp: 0.000000\n",
      "iter 715 dlpfc 15706 : 0.005857 kept err 0.000087 win err 8.66165e-05 temp: 0.000000\n",
      "iter 716 dlpfc 6467 : 0.000116 kept err 0.000087 win err 8.66165e-05 temp: 0.000000\n",
      "iter 717 dlpfc 6467 : 0.000929 kept err 0.000087 win err 8.66165e-05 temp: 0.000000\n",
      "iter 718 dlpfc 6467 : 0.000105 kept err 0.000087 win err 8.66165e-05 temp: 0.000000\n",
      "iter 719 dlpfc 6467 : 0.002138 kept err 0.000087 win err 8.66165e-05 temp: 0.000000\n",
      "iter 720 dlpfc 6467 : 0.000097 kept err 0.000087 win err 8.66165e-05 temp: 0.000000\n",
      "iter 721 dlpfc 6467 : 0.000088 kept err 0.000087 win err 8.66165e-05 temp: 0.000000\n",
      "iter 722 dlpfc 6467 : 0.000130 kept err 0.000087 win err 8.66165e-05 temp: 0.000000\n",
      "iter 723 dlpfc 6467 : 0.000465 kept err 0.000087 win err 8.66165e-05 temp: 0.000000\n",
      "iter 724 dlpfc 6467 : 0.000204 kept err 0.000087 win err 8.66165e-05 temp: 0.000000\n",
      "iter 725 dlpfc 6467 : 0.000420 kept err 0.000087 win err 8.66165e-05 temp: 0.000000\n",
      "iter 726 dlpfc 1555 : 0.004658 kept err 0.000087 win err 8.66165e-05 temp: 0.000000\n",
      "iter 727 dlpfc 6467 : 0.000929 kept err 0.000087 win err 8.66165e-05 temp: 0.000000\n",
      "iter 728 dlpfc 6467 : 0.000289 kept err 0.000087 win err 8.66165e-05 temp: 0.000000\n",
      "iter 729 dlpfc 6467 : 0.000104 kept err 0.000087 win err 8.66165e-05 temp: 0.000000\n",
      "iter 730 dlpfc 6467 : 0.000096 kept err 0.000087 win err 8.66165e-05 temp: 0.000000\n",
      "iter 731 dlpfc 4042 : 0.004707 kept err 0.000087 win err 8.66165e-05 temp: 0.000000\n",
      "iter 732 dlpfc 17260 : 0.005278 kept err 0.000087 win err 8.66165e-05 temp: 0.000000\n",
      "iter 733 dlpfc 6467 : 0.000193 kept err 0.000087 win err 8.66165e-05 temp: 0.000000\n",
      "iter 734 dlpfc 6467 : 0.002148 kept err 0.000087 win err 8.66165e-05 temp: 0.000000\n",
      "iter 735 dlpfc 6467 : 0.000676 kept err 0.000087 win err 8.66165e-05 temp: 0.000000\n",
      "iter 736 dlpfc 6467 : 0.000415 kept err 0.000087 win err 8.66165e-05 temp: 0.000000\n",
      "iter 737 dlpfc 6467 : 0.000087 kept err 0.000087 win err 8.66165e-05 temp: 0.000000\n",
      "iter 738 dlpfc 6467 : 0.001025 kept err 0.000087 win err 8.66165e-05 temp: 0.000000\n",
      "iter 739 dlpfc 6467 : 0.000087 kept err 0.000087 win err 8.66165e-05 temp: 0.000000\n",
      "iter 740 dlpfc 6467 : 0.000119 kept err 0.000087 win err 8.66165e-05 temp: 0.000000\n",
      "iter 741 dlpfc 6467 : 0.001389 kept err 0.000087 win err 8.66165e-05 temp: 0.000000\n",
      "iter 742 dlpfc 6467 : 0.000878 kept err 0.000087 win err 8.66165e-05 temp: 0.000000\n",
      "iter 743 dlpfc 6467 : 0.000089 kept err 0.000087 win err 8.66165e-05 temp: 0.000000\n",
      "iter 744 dlpfc 6467 : 0.002308 kept err 0.000087 win err 8.66165e-05 temp: 0.000000\n",
      "iter 745 dlpfc 3652 : 0.004527 kept err 0.000087 win err 8.66165e-05 temp: 0.000000\n",
      "iter 746 dlpfc 6467 : 0.002657 kept err 0.000087 win err 8.66165e-05 temp: 0.000000\n",
      "iter 747 dlpfc 6467 : 0.000174 kept err 0.000087 win err 8.66165e-05 temp: 0.000000\n",
      "iter 748 dlpfc 6467 : 0.000148 kept err 0.000087 win err 8.66165e-05 temp: 0.000000\n",
      "iter 749 dlpfc 7153 : 0.004186 kept err 0.000087 win err 8.66165e-05 temp: 0.000000\n",
      "iter 750 dlpfc 6467 : 0.001389 kept err 0.000087 win err 8.66165e-05 temp: 0.000000\n",
      "iter 751 dlpfc 6467 : 0.000087 kept err 0.000087 win err 8.66165e-05 temp: 0.000000\n",
      "iter 752 dlpfc 6467 : 0.000785 kept err 0.000087 win err 8.66165e-05 temp: 0.000000\n",
      "iter 753 dlpfc 6467 : 0.000092 kept err 0.000087 win err 8.66165e-05 temp: 0.000000\n",
      "iter 754 dlpfc 10822 : 0.002474 kept err 0.000087 win err 8.66165e-05 temp: 0.000000\n",
      "iter 755 dlpfc 6467 : 0.000359 kept err 0.000087 win err 8.66165e-05 temp: 0.000000\n",
      "iter 756 dlpfc 6467 : 0.000087 kept err 0.000087 win err 8.66165e-05 temp: 0.000000\n",
      "iter 757 dlpfc 6467 : 0.002016 kept err 0.000087 win err 8.66165e-05 temp: 0.000000\n",
      "iter 758 dlpfc 6467 : 0.000951 kept err 0.000087 win err 8.66165e-05 temp: 0.000000\n",
      "iter 759 dlpfc 15995 : 0.004524 kept err 0.000087 win err 8.66165e-05 temp: 0.000000\n",
      "iter 760 dlpfc 6467 : 0.000164 kept err 0.000087 win err 8.66165e-05 temp: 0.000000\n",
      "iter 761 dlpfc 6467 : 0.002127 kept err 0.000087 win err 8.66165e-05 temp: 0.000000\n",
      "iter 762 dlpfc 9267 : 0.001821 kept err 0.000087 win err 8.66165e-05 temp: 0.000000\n",
      "iter 763 dlpfc 6467 : 0.000097 kept err 0.000087 win err 8.66165e-05 temp: 0.000000\n",
      "iter 764 dlpfc 6467 : 0.000266 kept err 0.000087 win err 8.66165e-05 temp: 0.000000\n",
      "iter 765 dlpfc 6467 : 0.000097 kept err 0.000087 win err 8.66165e-05 temp: 0.000000\n",
      "iter 766 dlpfc 17206 : 0.003237 kept err 0.000087 win err 8.66165e-05 temp: 0.000000\n",
      "iter 767 dlpfc 6467 : 0.000094 kept err 0.000087 win err 8.66165e-05 temp: 0.000000\n",
      "iter 768 dlpfc 6467 : 0.000031 kept err 0.000087 win err 8.66165e-05 temp: 0.000000\n",
      "iter 769 dlpfc 4036 : 0.008022 kept err 0.000031 win err 3.1335e-05 temp: 0.000000\n",
      "iter 770 dlpfc 6467 : 0.001008 kept err 0.000031 win err 3.1335e-05 temp: 0.000000\n",
      "iter 771 dlpfc 6467 : 0.000037 kept err 0.000031 win err 3.1335e-05 temp: 0.000000\n",
      "iter 772 dlpfc 6467 : 0.000242 kept err 0.000031 win err 3.1335e-05 temp: 0.000000\n",
      "iter 773 dlpfc 985 : 0.008019 kept err 0.000031 win err 3.1335e-05 temp: 0.000000\n",
      "iter 774 dlpfc 985 : 0.008378 kept err 0.000031 win err 3.1335e-05 temp: 0.000000\n",
      "iter 775 dlpfc 985 : 0.007240 kept err 0.000031 win err 3.1335e-05 temp: 0.000000\n",
      "iter 776 dlpfc 6467 : 0.000422 kept err 0.000031 win err 3.1335e-05 temp: 0.000000\n",
      "iter 777 dlpfc 6467 : 0.000079 kept err 0.000031 win err 3.1335e-05 temp: 0.000000\n",
      "iter 778 dlpfc 6467 : 0.001078 kept err 0.000031 win err 3.1335e-05 temp: 0.000000\n",
      "iter 779 dlpfc 6467 : 0.000046 kept err 0.000031 win err 3.1335e-05 temp: 0.000000\n",
      "iter 780 dlpfc 14112 : 0.004753 kept err 0.000031 win err 3.1335e-05 temp: 0.000000\n",
      "iter 781 dlpfc 6467 : 0.000103 kept err 0.000031 win err 3.1335e-05 temp: 0.000000\n",
      "iter 782 dlpfc 6467 : 0.000031 kept err 0.000031 win err 3.1335e-05 temp: 0.000000\n",
      "iter 783 dlpfc 6467 : 0.000031 kept err 0.000031 win err 3.1335e-05 temp: 0.000000\n",
      "iter 784 dlpfc 6467 : 0.002338 kept err 0.000031 win err 3.1335e-05 temp: 0.000000\n",
      "iter 785 dlpfc 5722 : 0.003775 kept err 0.000031 win err 3.1335e-05 temp: 0.000000\n",
      "iter 786 dlpfc 5202 : 0.002764 kept err 0.000031 win err 3.1335e-05 temp: 0.000000\n",
      "iter 787 dlpfc 6467 : 0.000059 kept err 0.000031 win err 3.1335e-05 temp: 0.000000\n",
      "iter 788 dlpfc 6467 : 0.000356 kept err 0.000031 win err 3.1335e-05 temp: 0.000000\n",
      "iter 789 dlpfc 985 : 0.008453 kept err 0.000031 win err 3.1335e-05 temp: 0.000000\n",
      "iter 790 dlpfc 6467 : 0.000482 kept err 0.000031 win err 3.1335e-05 temp: 0.000000\n",
      "iter 791 dlpfc 6467 : 0.002338 kept err 0.000031 win err 3.1335e-05 temp: 0.000000\n",
      "iter 792 dlpfc 6467 : 0.000043 kept err 0.000031 win err 3.1335e-05 temp: 0.000000\n",
      "iter 793 dlpfc 5373 : 0.004616 kept err 0.000031 win err 3.1335e-05 temp: 0.000000\n",
      "iter 794 dlpfc 5329 : 0.003528 kept err 0.000031 win err 3.1335e-05 temp: 0.000000\n",
      "iter 795 dlpfc 12685 : 0.004265 kept err 0.000031 win err 3.1335e-05 temp: 0.000000\n",
      "iter 796 dlpfc 15815 : 0.002644 kept err 0.000031 win err 3.1335e-05 temp: 0.000000\n",
      "iter 797 dlpfc 4322 : 0.003277 kept err 0.000031 win err 3.1335e-05 temp: 0.000000\n",
      "iter 798 dlpfc 6467 : 0.000394 kept err 0.000031 win err 3.1335e-05 temp: 0.000000\n",
      "iter 799 dlpfc 6332 : 0.005055 kept err 0.000031 win err 3.1335e-05 temp: 0.000000\n",
      "iter 800 dlpfc 1555 : 0.004578 kept err 0.000031 win err 3.1335e-05 temp: 0.000000\n",
      "iter 801 dlpfc 15104 : 0.005031 kept err 0.000031 win err 3.1335e-05 temp: 0.000000\n",
      "iter 802 dlpfc 6467 : 0.000087 kept err 0.000031 win err 3.1335e-05 temp: 0.000000\n",
      "iter 803 dlpfc 6467 : 0.000406 kept err 0.000031 win err 3.1335e-05 temp: 0.000000\n",
      "iter 804 dlpfc 6467 : 0.000285 kept err 0.000031 win err 3.1335e-05 temp: 0.000000\n",
      "iter 805 dlpfc 6467 : 0.000109 kept err 0.000031 win err 3.1335e-05 temp: 0.000000\n",
      "iter 806 dlpfc 14452 : 0.004230 kept err 0.000031 win err 3.1335e-05 temp: 0.000000\n",
      "iter 807 dlpfc 6467 : 0.003344 kept err 0.000031 win err 3.1335e-05 temp: 0.000000\n",
      "iter 808 dlpfc 6467 : 0.001095 kept err 0.000031 win err 3.1335e-05 temp: 0.000000\n",
      "iter 809 dlpfc 6467 : 0.000034 kept err 0.000031 win err 3.1335e-05 temp: 0.000000\n",
      "iter 810 dlpfc 985 : 0.008271 kept err 0.000031 win err 3.1335e-05 temp: 0.000000\n",
      "iter 811 dlpfc 6467 : 0.000039 kept err 0.000031 win err 3.1335e-05 temp: 0.000000\n",
      "iter 812 dlpfc 6467 : 0.000072 kept err 0.000031 win err 3.1335e-05 temp: 0.000000\n",
      "iter 813 dlpfc 6467 : 0.000060 kept err 0.000031 win err 3.1335e-05 temp: 0.000000\n",
      "iter 814 dlpfc 985 : 0.008281 kept err 0.000031 win err 3.1335e-05 temp: 0.000000\n",
      "iter 815 dlpfc 4036 : 0.008035 kept err 0.000031 win err 3.1335e-05 temp: 0.000000\n",
      "iter 816 dlpfc 6467 : 0.001392 kept err 0.000031 win err 3.1335e-05 temp: 0.000000\n",
      "iter 817 dlpfc 6467 : 0.000406 kept err 0.000031 win err 3.1335e-05 temp: 0.000000\n",
      "iter 818 dlpfc 6467 : 0.002253 kept err 0.000031 win err 3.1335e-05 temp: 0.000000\n",
      "iter 819 dlpfc 4185 : 0.003419 kept err 0.000031 win err 3.1335e-05 temp: 0.000000\n",
      "iter 820 dlpfc 15779 : 0.005311 kept err 0.000031 win err 3.1335e-05 temp: 0.000000\n",
      "iter 821 dlpfc 6467 : 0.001815 kept err 0.000031 win err 3.1335e-05 temp: 0.000000\n",
      "iter 822 dlpfc 15104 : 0.005031 kept err 0.000031 win err 3.1335e-05 temp: 0.000000\n",
      "iter 823 dlpfc 6467 : 0.000020 kept err 0.000031 win err 3.1335e-05 temp: 0.000000\n",
      "iter 824 dlpfc 6467 : 0.000198 kept err 0.000020 win err 1.95869e-05 temp: 0.000000\n",
      "iter 825 dlpfc 985 : 0.008109 kept err 0.000020 win err 1.95869e-05 temp: 0.000000\n",
      "iter 826 dlpfc 6467 : 0.000024 kept err 0.000020 win err 1.95869e-05 temp: 0.000000\n",
      "iter 827 dlpfc 985 : 0.008383 kept err 0.000020 win err 1.95869e-05 temp: 0.000000\n",
      "iter 828 dlpfc 4036 : 0.008354 kept err 0.000020 win err 1.95869e-05 temp: 0.000000\n",
      "iter 829 dlpfc 6467 : 0.001106 kept err 0.000020 win err 1.95869e-05 temp: 0.000000\n",
      "iter 830 dlpfc 12158 : 0.004247 kept err 0.000020 win err 1.95869e-05 temp: 0.000000\n",
      "iter 831 dlpfc 4036 : 0.007975 kept err 0.000020 win err 1.95869e-05 temp: 0.000000\n",
      "iter 832 dlpfc 6467 : 0.000525 kept err 0.000020 win err 1.95869e-05 temp: 0.000000\n",
      "iter 833 dlpfc 9267 : 0.001623 kept err 0.000020 win err 1.95869e-05 temp: 0.000000\n",
      "iter 834 dlpfc 2669 : 0.004575 kept err 0.000020 win err 1.95869e-05 temp: 0.000000\n",
      "iter 835 dlpfc 6467 : 0.000048 kept err 0.000020 win err 1.95869e-05 temp: 0.000000\n",
      "iter 836 dlpfc 6467 : 0.000061 kept err 0.000020 win err 1.95869e-05 temp: 0.000000\n",
      "iter 837 dlpfc 4974 : 0.003643 kept err 0.000020 win err 1.95869e-05 temp: 0.000000\n",
      "iter 838 dlpfc 6467 : 0.000798 kept err 0.000020 win err 1.95869e-05 temp: 0.000000\n",
      "iter 839 dlpfc 1579 : 0.006951 kept err 0.000020 win err 1.95869e-05 temp: 0.000000\n",
      "iter 840 dlpfc 985 : 0.008200 kept err 0.000020 win err 1.95869e-05 temp: 0.000000\n",
      "iter 841 dlpfc 1579 : 0.007797 kept err 0.000020 win err 1.95869e-05 temp: 0.000000\n",
      "iter 842 dlpfc 6467 : 0.000027 kept err 0.000020 win err 1.95869e-05 temp: 0.000000\n",
      "iter 843 dlpfc 9998 : 0.004361 kept err 0.000020 win err 1.95869e-05 temp: 0.000000\n",
      "iter 844 dlpfc 6467 : 0.000017 kept err 0.000020 win err 1.95869e-05 temp: 0.000000\n",
      "iter 845 dlpfc 4036 : 0.008187 kept err 0.000017 win err 1.71661e-05 temp: 0.000000\n",
      "iter 846 dlpfc 985 : 0.008204 kept err 0.000017 win err 1.71661e-05 temp: 0.000000\n",
      "iter 847 dlpfc 985 : 0.008188 kept err 0.000017 win err 1.71661e-05 temp: 0.000000\n",
      "iter 848 dlpfc 17784 : 0.004257 kept err 0.000017 win err 1.71661e-05 temp: 0.000000\n",
      "iter 849 dlpfc 6467 : 0.000136 kept err 0.000017 win err 1.71661e-05 temp: 0.000000\n",
      "iter 850 dlpfc 4036 : 0.008047 kept err 0.000017 win err 1.71661e-05 temp: 0.000000\n",
      "iter 851 dlpfc 15815 : 0.007787 kept err 0.000017 win err 1.71661e-05 temp: 0.000000\n",
      "iter 852 dlpfc 4185 : 0.003240 kept err 0.000017 win err 1.71661e-05 temp: 0.000000\n",
      "iter 853 dlpfc 6467 : 0.001446 kept err 0.000017 win err 1.71661e-05 temp: 0.000000\n",
      "iter 854 dlpfc 6467 : 0.000022 kept err 0.000017 win err 1.71661e-05 temp: 0.000000\n",
      "iter 855 dlpfc 7944 : 0.004106 kept err 0.000017 win err 1.71661e-05 temp: 0.000000\n",
      "iter 856 dlpfc 6467 : 0.000124 kept err 0.000017 win err 1.71661e-05 temp: 0.000000\n",
      "iter 857 dlpfc 985 : 0.008359 kept err 0.000017 win err 1.71661e-05 temp: 0.000000\n",
      "iter 858 dlpfc 1579 : 0.007743 kept err 0.000017 win err 1.71661e-05 temp: 0.000000\n",
      "iter 859 dlpfc 985 : 0.007635 kept err 0.000017 win err 1.71661e-05 temp: 0.000000\n",
      "iter 860 dlpfc 985 : 0.008109 kept err 0.000017 win err 1.71661e-05 temp: 0.000000\n",
      "iter 861 dlpfc 15815 : 0.007787 kept err 0.000017 win err 1.71661e-05 temp: 0.000000\n",
      "iter 862 dlpfc 10439 : 0.006897 kept err 0.000017 win err 1.71661e-05 temp: 0.000000\n",
      "iter 863 dlpfc 6467 : 0.000735 kept err 0.000017 win err 1.71661e-05 temp: 0.000000\n",
      "iter 864 dlpfc 6467 : 0.000226 kept err 0.000017 win err 1.71661e-05 temp: 0.000000\n",
      "iter 865 dlpfc 6467 : 0.001344 kept err 0.000017 win err 1.71661e-05 temp: 0.000000\n",
      "iter 866 dlpfc 4036 : 0.008140 kept err 0.000017 win err 1.71661e-05 temp: 0.000000\n",
      "iter 867 dlpfc 1317 : 0.004853 kept err 0.000017 win err 1.71661e-05 temp: 0.000000\n",
      "iter 868 dlpfc 6467 : 0.000517 kept err 0.000017 win err 1.71661e-05 temp: 0.000000\n",
      "iter 869 dlpfc 6467 : 0.000025 kept err 0.000017 win err 1.71661e-05 temp: 0.000000\n",
      "iter 870 dlpfc 14826 : 0.003778 kept err 0.000017 win err 1.71661e-05 temp: 0.000000\n",
      "iter 871 dlpfc 4036 : 0.008458 kept err 0.000017 win err 1.71661e-05 temp: 0.000000\n",
      "iter 872 dlpfc 6467 : 0.000136 kept err 0.000017 win err 1.71661e-05 temp: 0.000000\n",
      "iter 873 dlpfc 985 : 0.008267 kept err 0.000017 win err 1.71661e-05 temp: 0.000000\n",
      "iter 874 dlpfc 985 : 0.008234 kept err 0.000017 win err 1.71661e-05 temp: 0.000000\n",
      "iter 875 dlpfc 4036 : 0.008043 kept err 0.000017 win err 1.71661e-05 temp: 0.000000\n",
      "iter 876 dlpfc 4036 : 0.008140 kept err 0.000017 win err 1.71661e-05 temp: 0.000000\n",
      "iter 877 dlpfc 1579 : 0.004499 kept err 0.000017 win err 1.71661e-05 temp: 0.000000\n",
      "iter 878 dlpfc 1579 : 0.008254 kept err 0.000017 win err 1.71661e-05 temp: 0.000000\n",
      "iter 879 dlpfc 12776 : 0.005234 kept err 0.000017 win err 1.71661e-05 temp: 0.000000\n",
      "iter 880 dlpfc 15942 : 0.004120 kept err 0.000017 win err 1.71661e-05 temp: 0.000000\n",
      "iter 881 dlpfc 4036 : 0.008122 kept err 0.000017 win err 1.71661e-05 temp: 0.000000\n",
      "iter 882 dlpfc 6467 : 0.000018 kept err 0.000017 win err 1.71661e-05 temp: 0.000000\n",
      "iter 883 dlpfc 15411 : 0.008099 kept err 0.000017 win err 1.71661e-05 temp: 0.000000\n",
      "iter 884 dlpfc 10439 : 0.006527 kept err 0.000017 win err 1.71661e-05 temp: 0.000000\n",
      "iter 885 dlpfc 12467 : 0.008163 kept err 0.000017 win err 1.71661e-05 temp: 0.000000\n",
      "iter 886 dlpfc 6467 : 0.000426 kept err 0.000017 win err 1.71661e-05 temp: 0.000000\n",
      "iter 887 dlpfc 6467 : 0.000021 kept err 0.000017 win err 1.71661e-05 temp: 0.000000\n",
      "iter 888 dlpfc 6467 : 0.000109 kept err 0.000017 win err 1.71661e-05 temp: 0.000000\n",
      "iter 889 dlpfc 6467 : 0.001229 kept err 0.000017 win err 1.71661e-05 temp: 0.000000\n",
      "iter 890 dlpfc 985 : 0.008300 kept err 0.000017 win err 1.71661e-05 temp: 0.000000\n",
      "iter 891 dlpfc 6467 : 0.000114 kept err 0.000017 win err 1.71661e-05 temp: 0.000000\n",
      "iter 892 dlpfc 4036 : 0.008296 kept err 0.000017 win err 1.71661e-05 temp: 0.000000\n",
      "iter 893 dlpfc 6467 : 0.000169 kept err 0.000017 win err 1.71661e-05 temp: 0.000000\n",
      "iter 894 dlpfc 985 : 0.008198 kept err 0.000017 win err 1.71661e-05 temp: 0.000000\n",
      "iter 895 dlpfc 6467 : 0.002231 kept err 0.000017 win err 1.71661e-05 temp: 0.000000\n",
      "iter 896 dlpfc 15664 : 0.004866 kept err 0.000017 win err 1.71661e-05 temp: 0.000000\n",
      "iter 897 dlpfc 6467 : 0.000958 kept err 0.000017 win err 1.71661e-05 temp: 0.000000\n",
      "iter 898 dlpfc 985 : 0.008227 kept err 0.000017 win err 1.71661e-05 temp: 0.000000\n",
      "iter 899 dlpfc 4036 : 0.008149 kept err 0.000017 win err 1.71661e-05 temp: 0.000000\n",
      "iter 900 dlpfc 1579 : 0.007733 kept err 0.000017 win err 1.71661e-05 temp: 0.000000\n",
      "iter 901 dlpfc 985 : 0.008381 kept err 0.000017 win err 1.71661e-05 temp: 0.000000\n",
      "iter 902 dlpfc 6467 : 0.001842 kept err 0.000017 win err 1.71661e-05 temp: 0.000000\n",
      "iter 903 dlpfc 146 : 0.004160 kept err 0.000017 win err 1.71661e-05 temp: 0.000000\n",
      "iter 904 dlpfc 6467 : 0.000199 kept err 0.000017 win err 1.71661e-05 temp: 0.000000\n",
      "iter 905 dlpfc 6467 : 0.000109 kept err 0.000017 win err 1.71661e-05 temp: 0.000000\n",
      "iter 906 dlpfc 13375 : 0.006274 kept err 0.000017 win err 1.71661e-05 temp: 0.000000\n",
      "iter 907 dlpfc 985 : 0.008233 kept err 0.000017 win err 1.71661e-05 temp: 0.000000\n",
      "iter 908 dlpfc 6467 : 0.000023 kept err 0.000017 win err 1.71661e-05 temp: 0.000000\n",
      "iter 909 dlpfc 17441 : 0.007237 kept err 0.000017 win err 1.71661e-05 temp: 0.000000\n",
      "iter 910 dlpfc 6467 : 0.001502 kept err 0.000017 win err 1.71661e-05 temp: 0.000000\n",
      "iter 911 dlpfc 985 : 0.008240 kept err 0.000017 win err 1.71661e-05 temp: 0.000000\n",
      "iter 912 dlpfc 6467 : 0.000814 kept err 0.000017 win err 1.71661e-05 temp: 0.000000\n",
      "iter 913 dlpfc 985 : 0.008131 kept err 0.000017 win err 1.71661e-05 temp: 0.000000\n",
      "iter 914 dlpfc 1515 : 0.006818 kept err 0.000017 win err 1.71661e-05 temp: 0.000000\n",
      "iter 915 dlpfc 6467 : 0.001119 kept err 0.000017 win err 1.71661e-05 temp: 0.000000\n",
      "iter 916 dlpfc 4036 : 0.008286 kept err 0.000017 win err 1.71661e-05 temp: 0.000000\n",
      "iter 917 dlpfc 4036 : 0.008149 kept err 0.000017 win err 1.71661e-05 temp: 0.000000\n",
      "iter 918 dlpfc 4036 : 0.008121 kept err 0.000017 win err 1.71661e-05 temp: 0.000000\n",
      "iter 919 dlpfc 15411 : 0.006243 kept err 0.000017 win err 1.71661e-05 temp: 0.000000\n",
      "iter 920 dlpfc 3501 : 0.005012 kept err 0.000017 win err 1.71661e-05 temp: 0.000000\n",
      "iter 921 dlpfc 6467 : 0.000307 kept err 0.000017 win err 1.71661e-05 temp: 0.000000\n",
      "iter 922 dlpfc 6467 : 0.000594 kept err 0.000017 win err 1.71661e-05 temp: 0.000000\n",
      "iter 923 dlpfc 6467 : 0.000199 kept err 0.000017 win err 1.71661e-05 temp: 0.000000\n",
      "iter 924 dlpfc 4036 : 0.008046 kept err 0.000017 win err 1.71661e-05 temp: 0.000000\n",
      "iter 925 dlpfc 1579 : 0.007799 kept err 0.000017 win err 1.71661e-05 temp: 0.000000\n",
      "iter 926 dlpfc 4036 : 0.007451 kept err 0.000017 win err 1.71661e-05 temp: 0.000000\n",
      "iter 927 dlpfc 6467 : 0.000108 kept err 0.000017 win err 1.71661e-05 temp: 0.000000\n",
      "iter 928 dlpfc 6467 : 0.000337 kept err 0.000017 win err 1.71661e-05 temp: 0.000000\n",
      "iter 929 dlpfc 6467 : 0.002224 kept err 0.000017 win err 1.71661e-05 temp: 0.000000\n",
      "iter 930 dlpfc 985 : 0.008260 kept err 0.000017 win err 1.71661e-05 temp: 0.000000\n",
      "iter 931 dlpfc 985 : 0.008167 kept err 0.000017 win err 1.71661e-05 temp: 0.000000\n",
      "iter 932 dlpfc 6467 : 0.000254 kept err 0.000017 win err 1.71661e-05 temp: 0.000000\n",
      "iter 933 dlpfc 5373 : 0.004660 kept err 0.000017 win err 1.71661e-05 temp: 0.000000\n",
      "iter 934 dlpfc 4036 : 0.004833 kept err 0.000017 win err 1.71661e-05 temp: 0.000000\n",
      "iter 935 dlpfc 4036 : 0.008289 kept err 0.000017 win err 1.71661e-05 temp: 0.000000\n",
      "iter 936 dlpfc 985 : 0.008168 kept err 0.000017 win err 1.71661e-05 temp: 0.000000\n",
      "iter 937 dlpfc 6467 : 0.002916 kept err 0.000017 win err 1.71661e-05 temp: 0.000000\n",
      "iter 938 dlpfc 6467 : 0.000626 kept err 0.000017 win err 1.71661e-05 temp: 0.000000\n",
      "iter 939 dlpfc 6467 : 0.000082 kept err 0.000017 win err 1.71661e-05 temp: 0.000000\n",
      "iter 940 dlpfc 6467 : 0.000173 kept err 0.000017 win err 1.71661e-05 temp: 0.000000\n",
      "iter 941 dlpfc 1609 : 0.006384 kept err 0.000017 win err 1.71661e-05 temp: 0.000000\n",
      "iter 942 dlpfc 6467 : 0.004930 kept err 0.000017 win err 1.71661e-05 temp: 0.000000\n",
      "iter 943 dlpfc 6467 : 0.000128 kept err 0.000017 win err 1.71661e-05 temp: 0.000000\n",
      "iter 944 dlpfc 985 : 0.005541 kept err 0.000017 win err 1.71661e-05 temp: 0.000000\n",
      "iter 945 dlpfc 6467 : 0.002402 kept err 0.000017 win err 1.71661e-05 temp: 0.000000\n",
      "iter 946 dlpfc 8927 : 0.006844 kept err 0.000017 win err 1.71661e-05 temp: 0.000000\n",
      "iter 947 dlpfc 9234 : 0.005562 kept err 0.000017 win err 1.71661e-05 temp: 0.000000\n",
      "iter 948 dlpfc 6467 : 0.000328 kept err 0.000017 win err 1.71661e-05 temp: 0.000000\n",
      "iter 949 dlpfc 12666 : 0.004788 kept err 0.000017 win err 1.71661e-05 temp: 0.000000\n",
      "iter 950 dlpfc 6467 : 0.000017 kept err 0.000017 win err 1.71661e-05 temp: 0.000000\n",
      "iter 951 dlpfc 6467 : 0.000017 kept err 0.000017 win err 1.71661e-05 temp: 0.000000\n",
      "iter 952 dlpfc 6467 : 0.000017 kept err 0.000017 win err 1.71661e-05 temp: 0.000000\n",
      "iter 953 dlpfc 9998 : 0.004383 kept err 0.000017 win err 1.71661e-05 temp: 0.000000\n",
      "iter 954 dlpfc 10100 : 0.003696 kept err 0.000017 win err 1.71661e-05 temp: 0.000000\n",
      "iter 955 dlpfc 985 : 0.008023 kept err 0.000017 win err 1.71661e-05 temp: 0.000000\n",
      "iter 956 dlpfc 6467 : 0.000231 kept err 0.000017 win err 1.71661e-05 temp: 0.000000\n",
      "iter 957 dlpfc 4036 : 0.008254 kept err 0.000017 win err 1.71661e-05 temp: 0.000000\n",
      "iter 958 dlpfc 6467 : 0.000160 kept err 0.000017 win err 1.71661e-05 temp: 0.000000\n",
      "iter 959 dlpfc 4036 : 0.007983 kept err 0.000017 win err 1.71661e-05 temp: 0.000000\n",
      "iter 960 dlpfc 11699 : 0.003689 kept err 0.000017 win err 1.71661e-05 temp: 0.000000\n",
      "iter 961 dlpfc 6467 : 0.000159 kept err 0.000017 win err 1.71661e-05 temp: 0.000000\n",
      "iter 962 dlpfc 4185 : 0.003240 kept err 0.000017 win err 1.71661e-05 temp: 0.000000\n",
      "iter 963 dlpfc 130 : 0.005976 kept err 0.000017 win err 1.71661e-05 temp: 0.000000\n",
      "iter 964 dlpfc 15411 : 0.007694 kept err 0.000017 win err 1.71661e-05 temp: 0.000000\n",
      "iter 965 dlpfc 6467 : 0.000174 kept err 0.000017 win err 1.71661e-05 temp: 0.000000\n",
      "iter 966 dlpfc 6467 : 0.000375 kept err 0.000017 win err 1.71661e-05 temp: 0.000000\n",
      "iter 967 dlpfc 6467 : 0.000172 kept err 0.000017 win err 1.71661e-05 temp: 0.000000\n",
      "iter 968 dlpfc 6467 : 0.000118 kept err 0.000017 win err 1.71661e-05 temp: 0.000000\n",
      "iter 969 dlpfc 15411 : 0.008136 kept err 0.000017 win err 1.71661e-05 temp: 0.000000\n",
      "iter 970 dlpfc 985 : 0.007566 kept err 0.000017 win err 1.71661e-05 temp: 0.000000\n",
      "iter 971 dlpfc 6467 : 0.000030 kept err 0.000017 win err 1.71661e-05 temp: 0.000000\n",
      "iter 972 dlpfc 4036 : 0.008140 kept err 0.000017 win err 1.71661e-05 temp: 0.000000\n",
      "iter 973 dlpfc 985 : 0.008022 kept err 0.000017 win err 1.71661e-05 temp: 0.000000\n",
      "iter 974 dlpfc 4036 : 0.008263 kept err 0.000017 win err 1.71661e-05 temp: 0.000000\n",
      "iter 975 dlpfc 6467 : 0.000428 kept err 0.000017 win err 1.71661e-05 temp: 0.000000\n"
     ]
    },
    {
     "ename": "KeyboardInterrupt",
     "evalue": "",
     "output_type": "error",
     "traceback": [
      "\u001b[0;31m---------------------------------------------------------------------------\u001b[0m",
      "\u001b[0;31mKeyboardInterrupt\u001b[0m                         Traceback (most recent call last)",
      "\u001b[0;32m<ipython-input-97-4f38bc9049c5>\u001b[0m in \u001b[0;36m<module>\u001b[0;34m\u001b[0m\n\u001b[1;32m     39\u001b[0m     \u001b[0;31m# 8 dlPFC ACTIVATION\u001b[0m\u001b[0;34m\u001b[0m\u001b[0;34m\u001b[0m\u001b[0;34m\u001b[0m\u001b[0m\n\u001b[1;32m     40\u001b[0m     \u001b[0;31m# 8.2 Kohonen based\u001b[0m\u001b[0;34m\u001b[0m\u001b[0;34m\u001b[0m\u001b[0;34m\u001b[0m\u001b[0m\n\u001b[0;32m---> 41\u001b[0;31m     \u001b[0mdlpfc_activation\u001b[0m\u001b[0;34m=\u001b[0m\u001b[0mpow\u001b[0m\u001b[0;34m(\u001b[0m\u001b[0;36m1\u001b[0m\u001b[0;34m+\u001b[0m\u001b[0msqrt\u001b[0m\u001b[0;34m(\u001b[0m\u001b[0mmean\u001b[0m\u001b[0;34m(\u001b[0m\u001b[0mpow\u001b[0m\u001b[0;34m(\u001b[0m\u001b[0mweights_dlpfc\u001b[0m\u001b[0;34m-\u001b[0m \u001b[0mlpfc_activation\u001b[0m\u001b[0;34m,\u001b[0m\u001b[0;36m2\u001b[0m\u001b[0;34m)\u001b[0m\u001b[0;34m,\u001b[0m\u001b[0maxis\u001b[0m\u001b[0;34m=\u001b[0m\u001b[0;36m1\u001b[0m\u001b[0;34m)\u001b[0m\u001b[0;34m)\u001b[0m\u001b[0;34m,\u001b[0m\u001b[0;34m-\u001b[0m\u001b[0;36m1\u001b[0m\u001b[0;34m)\u001b[0m\u001b[0;34m\u001b[0m\u001b[0;34m\u001b[0m\u001b[0m\n\u001b[0m\u001b[1;32m     42\u001b[0m     \u001b[0;31m# 8.3.1 dlPFC choose ID MAX\u001b[0m\u001b[0;34m\u001b[0m\u001b[0;34m\u001b[0m\u001b[0;34m\u001b[0m\u001b[0m\n\u001b[1;32m     43\u001b[0m     \u001b[0mdlpfc_max\u001b[0m\u001b[0;34m=\u001b[0m\u001b[0margmax\u001b[0m\u001b[0;34m(\u001b[0m\u001b[0mdlpfc_activation\u001b[0m\u001b[0;34m)\u001b[0m\u001b[0;34m\u001b[0m\u001b[0;34m\u001b[0m\u001b[0m\n",
      "\u001b[0;31mKeyboardInterrupt\u001b[0m: "
     ]
    }
   ],
   "source": [
    "for iter in range(iter_search):\n",
    "    # 1 GENERATE NOISE\n",
    "    if (d_error > 0):\n",
    "        noise_input=normal(0,0.1,comp_len) \n",
    "    # 2 NEW SOLUTION <- ADD NOISE + PREVIOUS SOLUTION\n",
    "    lpfc_input=noise_input+ofc_output\n",
    "    # 3 KEEP NORMALIZED\n",
    "    lpfc_input[where(lpfc_input<amin_val)]=amin_val\n",
    "    lpfc_input[where(lpfc_input>amax_val)]=amax_val\n",
    "    # 4 SWAP (TO AVOID LOCAL MINIMA)\n",
    "    #if (d_error > 0):\n",
    "    for j in arange(1):\n",
    "        x=randint(comp_len)\n",
    "        y=randint(comp_len)\n",
    "        tmp=lpfc_input[x]\n",
    "        lpfc_input[x]=lpfc_input[y]\n",
    "        lpfc_input[y]=tmp\n",
    "    # 5 KEEP X PERCENT OF TRUE INPUT\n",
    "    #lpfc_input[kept_idx]=array_mat[dlpfc_goal,kept_idx]\n",
    "    # 6 RANK ORDER CODE\n",
    "    rankorder_idx=argsort(lpfc_input)\n",
    "    # 7 LPFC ACTIVATION \n",
    "    if pos_search_first:\n",
    "        #lpfc_activation=dot(weights_lpfc, modulation[rank_order_idx])\n",
    "        #lpfc_activation[::2]=dot(weights_lpfc[::2,rank_order_idx], modulation[::-1])\n",
    "        for i in arange(num_lpfc):\n",
    "            input_perm=permutation_key[i,lpfc_input.astype('int')-1]\n",
    "            rank_order_idx=argsort(input_perm) # the most active first rank\n",
    "            lpfc_activation[i]=dot(weights_lpfc[i,:], modulation[rank_order_idx])\n",
    "    elif rank_search_first:\n",
    "        #lpfc_activation=dot(weights_lpfc[:,rank_order_idx], modulation)\n",
    "        #lpfc_activation[::2]=dot(weights_lpfc[::2,rank_order_idx], modulation[::-1])\n",
    "        for i in arange(num_lpfc):\n",
    "            input_perm=permutation_key[i,lpfc_input.astype('int')-1]\n",
    "            rank_order_idx=argsort(input_perm) # the most active first rank\n",
    "            lpfc_activation[i]=dot(weights_lpfc[i,rank_order_idx], modulation)\n",
    "        #lpfc_activation=dot(weights_lpfc[:, rankorder_idx],modulation)\n",
    "        #lpfc_activation[::2]=dot(weights_lpfc[::2,rank_order_idx], modulation[::-1])\n",
    "    # 8 dlPFC ACTIVATION \n",
    "    # 8.2 Kohonen based\n",
    "    dlpfc_activation=pow(1+sqrt(mean(pow(weights_dlpfc- lpfc_activation,2),axis=1)),-1)\n",
    "    # 8.3.1 dlPFC choose ID MAX\n",
    "    dlpfc_max=argmax(dlpfc_activation)\n",
    "    # 8.3.2 dlPFC ID GOAL\n",
    "    #dlpfc_max=dlpfc_goal\n",
    "    # 9 COMPUTE ERROR\n",
    "    measure2= mean(pow(activation_max-dlpfc_activation[dlpfc_max],2))\n",
    "    dlpfc_error=measure2\n",
    "    # 10 COMPUTE TEMPERATURE\n",
    "    d_error=dlpfc_error - backed_error\n",
    "    ap = exp(-d_error/(T*kb))\n",
    "    print (\"iter %d dlpfc %d : %f kept err %f win err %g temp: %f\" %( iter, dlpfc_max, dlpfc_error,  backed_error, error_win, T))\n",
    "    if (dlpfc_error<error_win): # BACKUP BEST SEQUENCE\n",
    "        error_win=dlpfc_error\n",
    "        output_win=lpfc_input\n",
    "        weights_ofc[dlpfc_max,:]=output_win\n",
    "        dlpfc_win=dlpfc_max\n",
    "    if (d_error < 0) or (ap > random()): # DESCENT GRADIENT\n",
    "        backed_error = dlpfc_error        \n",
    "        ofc_output=lpfc_input\n",
    "        # BACKUP OFC VECTOR\n",
    "        error_ofc[dlpfc_max]=dlpfc_error\n",
    "        weights_ofc[dlpfc_max,:]=ofc_output\n",
    "        opt_ofc_dyn.append(append(lpfc_input,[dlpfc_max,T, dlpfc_error]))\n",
    "        error_dyn.append([dlpfc_error,amin(measure2)])\n",
    "    if T < T_min:\n",
    "        T=error_win*0.5\n",
    "        alpha=alpha+0.0001*alpha\n",
    "    T = T*alpha\n"
   ]
  },
  {
   "cell_type": "code",
   "execution_count": 98,
   "metadata": {},
   "outputs": [],
   "source": [
    "opt_ofc_dyn1=array(opt_ofc_dyn)\n",
    "error_dyn1=array(error_dyn)"
   ]
  },
  {
   "cell_type": "code",
   "execution_count": 101,
   "metadata": {},
   "outputs": [
    {
     "data": {
      "text/plain": [
       "42"
      ]
     },
     "execution_count": 101,
     "metadata": {},
     "output_type": "execute_result"
    }
   ],
   "source": [
    "len(error_dyn1)"
   ]
  },
  {
   "cell_type": "code",
   "execution_count": 102,
   "metadata": {},
   "outputs": [
    {
     "data": {
      "image/png": "[encoded data removed]",
      "text/plain": [
       "<Figure size 432x288 with 1 Axes>"
      ]
     },
     "metadata": {
      "needs_background": "light"
     },
     "output_type": "display_data"
    }
   ],
   "source": [
    "#figure(10) \n",
    "clf()\n",
    "plot(error_dyn1[:,-2],lw=2)\n",
    "yscale('log')"
   ]
  },
  {
   "cell_type": "markdown",
   "metadata": {},
   "source": [
    "#### FIG 0 Neural Activity and retrieved sequence"
   ]
  },
  {
   "cell_type": "code",
   "execution_count": 103,
   "metadata": {},
   "outputs": [
    {
     "data": {
      "text/plain": [
       "(0.0, 42.0)"
      ]
     },
     "execution_count": 103,
     "metadata": {},
     "output_type": "execute_result"
    },
    {
     "data": {
      "image/png": "[encoded data removed]",
      "text/plain": [
       "<Figure size 432x288 with 2 Axes>"
      ]
     },
     "metadata": {
      "needs_background": "light"
     },
     "output_type": "display_data"
    }
   ],
   "source": [
    "#figure(0) \n",
    "clf()\n",
    "subplot(211)\n",
    "plot(opt_ofc_dyn1[:,-1],lw=2)\n",
    "xticks([])\n",
    "yscale('log')\n",
    "ylabel('Error')\n",
    "title('Neural Activity, retrieved sequence')\n",
    "xlim([0,len(opt_ofc_dyn1)])\n",
    "subplot(212)\n",
    "plot(opt_ofc_dyn1[:,-3],'.')\n",
    "xlabel('Time [iter]')\n",
    "ylabel('neuron \\n [idx]')\n",
    "xlim([0,len(opt_ofc_dyn1)])"
   ]
  },
  {
   "cell_type": "code",
   "execution_count": 105,
   "metadata": {},
   "outputs": [
    {
     "data": {
      "text/plain": [
       "<Figure size 432x288 with 0 Axes>"
      ]
     },
     "metadata": {},
     "output_type": "display_data"
    }
   ],
   "source": [
    "## backup\n",
    "if toBackup == True:\n",
    "    timeframe=time.strftime('%Y%m%d%H%M%S')\n",
    "    filename = 'fig00_%s.png' %(timeframe)\n",
    "    savefig(filename)\n",
    "    filename = 'fig00_%s.svg' %(timeframe)\n",
    "    savefig(filename)"
   ]
  },
  {
   "cell_type": "markdown",
   "metadata": {},
   "source": [
    "#### FIG 1 Neural Activity and retrieved sequence"
   ]
  },
  {
   "cell_type": "code",
   "execution_count": 106,
   "metadata": {},
   "outputs": [
    {
     "data": {
      "text/plain": [
       "Text(0, 0.5, 'retrieved sequence \\n [idx/pos]')"
      ]
     },
     "execution_count": 106,
     "metadata": {},
     "output_type": "execute_result"
    },
    {
     "data": {
      "image/png": "[encoded data removed]",
      "text/plain": [
       "<Figure size 432x288 with 2 Axes>"
      ]
     },
     "metadata": {
      "needs_background": "light"
     },
     "output_type": "display_data"
    }
   ],
   "source": [
    "#figure(1) \n",
    "clf()\n",
    "subplot(211)\n",
    "plot(opt_ofc_dyn1[:,-1],lw=2)\n",
    "xticks([])\n",
    "yscale('log')\n",
    "ylabel('Error')\n",
    "title('Neural Activity, retrieved sequence')\n",
    "xlim([0,len(opt_ofc_dyn1)])\n",
    "\n",
    "subplot(212)\n",
    "imshow(opt_ofc_dyn1[:,:comp_len].T, origin='lower', aspect='auto',interpolation='none')\n",
    "xlabel('Time [iter]')\n",
    "ylabel('retrieved sequence \\n [idx/pos]')"
   ]
  },
  {
   "cell_type": "code",
   "execution_count": 107,
   "metadata": {},
   "outputs": [
    {
     "data": {
      "text/plain": [
       "<Figure size 432x288 with 0 Axes>"
      ]
     },
     "metadata": {},
     "output_type": "display_data"
    }
   ],
   "source": [
    "## backup\n",
    "if toBackup == True:\n",
    "    timeframe=time.strftime('%Y%m%d%H%M%S')\n",
    "    filename = 'fig01_%s.png' %(timeframe)\n",
    "    savefig(filename)\n",
    "    filename = 'fig01_%s.svg' %(timeframe)\n",
    "    savefig(filename)"
   ]
  },
  {
   "cell_type": "markdown",
   "metadata": {},
   "source": [
    "#### FIGURE 2 RETRIEVED SEQUENCE & RANK"
   ]
  },
  {
   "cell_type": "code",
   "execution_count": 109,
   "metadata": {},
   "outputs": [
    {
     "data": {
      "text/plain": [
       "Text(0.5, 0, 'position')"
      ]
     },
     "execution_count": 109,
     "metadata": {},
     "output_type": "execute_result"
    },
    {
     "data": {
      "image/png": "[encoded data removed]",
      "text/plain": [
       "<Figure size 432x288 with 2 Axes>"
      ]
     },
     "metadata": {
      "needs_background": "light"
     },
     "output_type": "display_data"
    }
   ],
   "source": [
    "iter=argmin(opt_ofc_dyn1[:,-1])\n",
    "iter=-1\n",
    "dlpfc_max=int(opt_ofc_dyn1[iter,-3])\n",
    "retrieved_seq=opt_ofc_dyn1[iter,:-3]\n",
    "#seq_retrieved_norm=retrieved_seq\n",
    "#retrieved_seq=weights_ofc[dlpfc_max,:]\n",
    "#seq_retrieved_norm=renormalize(retrieved_seq,amin_val,amax_val)\n",
    "#rank_select= int(error_dyn1[-1,-3])\n",
    "\n",
    "#figure(2)\n",
    "clf()\n",
    "#suptitle('Sequence to retrieve, err: %.2f' %opt_ofc_dyn1[-1,-1])\n",
    "#suptitle('Sequence to retrieve, err: %.2g' %error_win)\n",
    "suptitle('Sequence to retrieve, err: %.2g' %error_dyn1[iter,-2])\n",
    "\n",
    "subplot(211)\n",
    "plot(array_mat[dlpfc_max,:],'b',lw=2)\n",
    "#plot(array_mat[dlpfc_goal,:],'b',lw=2)\n",
    "#plot(array_mat[dlpfc_win,:],'b',lw=2)\n",
    "#plot(output_win,'r',lw=2)\n",
    "#plot(renormalize(output_win,1,102),'r',lw=2)\n",
    "#plot(seq_retrieved_norm,'r',lw=2)\n",
    "plot(retrieved_seq,'r',lw=2)\n",
    "ylabel('item [idx]')\n",
    "xticks([])\n",
    "ylim([amin_val,amax_val])\n",
    "\n",
    "subplot(212)\n",
    "plot(argsort(array_mat[dlpfc_max,:]),'b',lw=2)\n",
    "#plot(argsort(array_mat[dlpfc_goal,:]),'b',lw=2)\n",
    "#plot(argsort(array_mat[dlpfc_win,:]),'b',lw=2)\n",
    "#plot(argsort(output_win),'r',lw=2)\n",
    "plot(argsort(retrieved_seq),'r',lw=2)\n",
    "ylabel('rank order code \\n [rank]')\n",
    "xlabel('position')"
   ]
  },
  {
   "cell_type": "code",
   "execution_count": 110,
   "metadata": {},
   "outputs": [
    {
     "data": {
      "text/plain": [
       "<Figure size 432x288 with 0 Axes>"
      ]
     },
     "metadata": {},
     "output_type": "display_data"
    }
   ],
   "source": [
    "## backup) \n",
    "if toBackup == True:\n",
    "    timeframe=time.strftime('%Y%m%d%H%M%S')\n",
    "    filename = 'fig02_%s.png' %(timeframe)\n",
    "    savefig(filename)\n",
    "    filename = 'fig02_%s.svg' %(timeframe)\n",
    "    savefig(filename)"
   ]
  },
  {
   "cell_type": "code",
   "execution_count": 111,
   "metadata": {},
   "outputs": [],
   "source": [
    "sentence_retrieved=[]\n",
    "sentence_goal=[]\n",
    "\n",
    "for i in range(num_len1):\n",
    "    for j in range(102):\n",
    "        if(j==(retrieved_seq[i].astype(int))) :\n",
    "            sentence_retrieved.append(text2int[j][0])\n",
    "        if(j==(array_mat[dlpfc_max,i]).astype(int)) :\n",
    "            sentence_goal.append(text2int[j][0])\n",
    "\n",
    "sentence_retrieved\n",
    "sentence_goal\n",
    "\n",
    "retrieved_seq_bak1=retrieved_seq\n",
    "dlpfc_max1=dlpfc_max"
   ]
  },
  {
   "cell_type": "markdown",
   "metadata": {},
   "source": [
    "#### FIGURE 3 ANIMATION of FIGURE 2, RETRIEVED SEQUENCE"
   ]
  },
  {
   "cell_type": "code",
   "execution_count": 112,
   "metadata": {},
   "outputs": [
    {
     "data": {
      "image/png": "[encoded data removed]",
      "text/plain": [
       "<Figure size 432x288 with 2 Axes>"
      ]
     },
     "metadata": {
      "needs_background": "light"
     },
     "output_type": "display_data"
    }
   ],
   "source": [
    "len_seq=len(opt_ofc_dyn1)\n",
    "step_seq=1\n",
    "timeframe=time.strftime('%Y%m%d%H%M%S')\n",
    "\n",
    "#figure(3)\n",
    "clf()\n",
    "\n",
    "for iter in arange(len_seq, step=step_seq):\n",
    "    dlpfc_max=int(opt_ofc_dyn1[iter,-3])\n",
    "    retrieved_seq=opt_ofc_dyn1[iter,:-3]\n",
    "    clf()\n",
    "    suptitle('Sequence to retrieve, err: %.2g' %opt_ofc_dyn1[iter,-1])\n",
    "    subplot(211)\n",
    "    plot(array_mat[dlpfc_max,:],'b',lw=2)\n",
    "    plot(retrieved_seq,'r',lw=2)\n",
    "    ylabel('item [idx]')\n",
    "    xticks([])\n",
    "    ylim([amin_val,amax_val])\n",
    "    subplot(212)\n",
    "    plot(argsort(array_mat[dlpfc_max,:]),'b',lw=2)\n",
    "    plot(argsort(retrieved_seq),'r',lw=2)\n",
    "    ylabel('rank order code \\n [rank]')\n",
    "    xlabel('position')\n",
    "    if toBackup == True:\n",
    "        filename = 'fig03_%s_%.6d.png' %(timeframe,iter)\n",
    "        savefig(filename)"
   ]
  },
  {
   "cell_type": "code",
   "execution_count": null,
   "metadata": {},
   "outputs": [],
   "source": []
  }
 ],
 "metadata": {
  "kernelspec": {
   "display_name": "Python 3",
   "language": "python",
   "name": "python3"
  },
  "language_info": {
   "codemirror_mode": {
    "name": "ipython",
    "version": 3
   },
   "file_extension": ".py",
   "mimetype": "text/x-python",
   "name": "python",
   "nbconvert_exporter": "python",
   "pygments_lexer": "ipython3",
   "version": "3.8.3"
  }
 },
 "nbformat": 4,
 "nbformat_minor": 4
}
